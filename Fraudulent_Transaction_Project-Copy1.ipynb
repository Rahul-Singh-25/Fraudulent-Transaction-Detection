{
 "cells": [
  {
   "cell_type": "markdown",
   "id": "1fd501d0",
   "metadata": {},
   "source": [
    "# Importing the libraries"
   ]
  },
  {
   "cell_type": "code",
   "execution_count": 1,
   "id": "0c41f2ea",
   "metadata": {},
   "outputs": [],
   "source": [
    "import pandas as pd\n",
    "import numpy as np \n",
    "import seaborn as sns \n",
    "import tensorflow as tf\n",
    "import matplotlib.pylab as plt\n",
    "%matplotlib inline\n",
    "from sklearn.preprocessing import StandardScaler\n",
    "from scipy.stats import norm\n",
    "from scipy import stats\n",
    "import warnings \n",
    "warnings.filterwarnings('ignore')"
   ]
  },
  {
   "cell_type": "code",
   "execution_count": 2,
   "id": "f66671d6",
   "metadata": {},
   "outputs": [
    {
     "data": {
      "text/html": [
       "<div>\n",
       "<style scoped>\n",
       "    .dataframe tbody tr th:only-of-type {\n",
       "        vertical-align: middle;\n",
       "    }\n",
       "\n",
       "    .dataframe tbody tr th {\n",
       "        vertical-align: top;\n",
       "    }\n",
       "\n",
       "    .dataframe thead th {\n",
       "        text-align: right;\n",
       "    }\n",
       "</style>\n",
       "<table border=\"1\" class=\"dataframe\">\n",
       "  <thead>\n",
       "    <tr style=\"text-align: right;\">\n",
       "      <th></th>\n",
       "      <th>step</th>\n",
       "      <th>type</th>\n",
       "      <th>amount</th>\n",
       "      <th>nameOrig</th>\n",
       "      <th>oldbalanceOrg</th>\n",
       "      <th>newbalanceOrig</th>\n",
       "      <th>nameDest</th>\n",
       "      <th>oldbalanceDest</th>\n",
       "      <th>newbalanceDest</th>\n",
       "      <th>isFraud</th>\n",
       "      <th>isFlaggedFraud</th>\n",
       "    </tr>\n",
       "  </thead>\n",
       "  <tbody>\n",
       "    <tr>\n",
       "      <th>0</th>\n",
       "      <td>1</td>\n",
       "      <td>PAYMENT</td>\n",
       "      <td>9839.64</td>\n",
       "      <td>C1231006815</td>\n",
       "      <td>170136.00</td>\n",
       "      <td>160296.36</td>\n",
       "      <td>M1979787155</td>\n",
       "      <td>0.00</td>\n",
       "      <td>0.00</td>\n",
       "      <td>0</td>\n",
       "      <td>0</td>\n",
       "    </tr>\n",
       "    <tr>\n",
       "      <th>1</th>\n",
       "      <td>1</td>\n",
       "      <td>PAYMENT</td>\n",
       "      <td>1864.28</td>\n",
       "      <td>C1666544295</td>\n",
       "      <td>21249.00</td>\n",
       "      <td>19384.72</td>\n",
       "      <td>M2044282225</td>\n",
       "      <td>0.00</td>\n",
       "      <td>0.00</td>\n",
       "      <td>0</td>\n",
       "      <td>0</td>\n",
       "    </tr>\n",
       "    <tr>\n",
       "      <th>2</th>\n",
       "      <td>1</td>\n",
       "      <td>TRANSFER</td>\n",
       "      <td>181.00</td>\n",
       "      <td>C1305486145</td>\n",
       "      <td>181.00</td>\n",
       "      <td>0.00</td>\n",
       "      <td>C553264065</td>\n",
       "      <td>0.00</td>\n",
       "      <td>0.00</td>\n",
       "      <td>1</td>\n",
       "      <td>0</td>\n",
       "    </tr>\n",
       "    <tr>\n",
       "      <th>3</th>\n",
       "      <td>1</td>\n",
       "      <td>CASH_OUT</td>\n",
       "      <td>181.00</td>\n",
       "      <td>C840083671</td>\n",
       "      <td>181.00</td>\n",
       "      <td>0.00</td>\n",
       "      <td>C38997010</td>\n",
       "      <td>21182.00</td>\n",
       "      <td>0.00</td>\n",
       "      <td>1</td>\n",
       "      <td>0</td>\n",
       "    </tr>\n",
       "    <tr>\n",
       "      <th>4</th>\n",
       "      <td>1</td>\n",
       "      <td>PAYMENT</td>\n",
       "      <td>11668.14</td>\n",
       "      <td>C2048537720</td>\n",
       "      <td>41554.00</td>\n",
       "      <td>29885.86</td>\n",
       "      <td>M1230701703</td>\n",
       "      <td>0.00</td>\n",
       "      <td>0.00</td>\n",
       "      <td>0</td>\n",
       "      <td>0</td>\n",
       "    </tr>\n",
       "    <tr>\n",
       "      <th>...</th>\n",
       "      <td>...</td>\n",
       "      <td>...</td>\n",
       "      <td>...</td>\n",
       "      <td>...</td>\n",
       "      <td>...</td>\n",
       "      <td>...</td>\n",
       "      <td>...</td>\n",
       "      <td>...</td>\n",
       "      <td>...</td>\n",
       "      <td>...</td>\n",
       "      <td>...</td>\n",
       "    </tr>\n",
       "    <tr>\n",
       "      <th>6362615</th>\n",
       "      <td>743</td>\n",
       "      <td>CASH_OUT</td>\n",
       "      <td>339682.13</td>\n",
       "      <td>C786484425</td>\n",
       "      <td>339682.13</td>\n",
       "      <td>0.00</td>\n",
       "      <td>C776919290</td>\n",
       "      <td>0.00</td>\n",
       "      <td>339682.13</td>\n",
       "      <td>1</td>\n",
       "      <td>0</td>\n",
       "    </tr>\n",
       "    <tr>\n",
       "      <th>6362616</th>\n",
       "      <td>743</td>\n",
       "      <td>TRANSFER</td>\n",
       "      <td>6311409.28</td>\n",
       "      <td>C1529008245</td>\n",
       "      <td>6311409.28</td>\n",
       "      <td>0.00</td>\n",
       "      <td>C1881841831</td>\n",
       "      <td>0.00</td>\n",
       "      <td>0.00</td>\n",
       "      <td>1</td>\n",
       "      <td>0</td>\n",
       "    </tr>\n",
       "    <tr>\n",
       "      <th>6362617</th>\n",
       "      <td>743</td>\n",
       "      <td>CASH_OUT</td>\n",
       "      <td>6311409.28</td>\n",
       "      <td>C1162922333</td>\n",
       "      <td>6311409.28</td>\n",
       "      <td>0.00</td>\n",
       "      <td>C1365125890</td>\n",
       "      <td>68488.84</td>\n",
       "      <td>6379898.11</td>\n",
       "      <td>1</td>\n",
       "      <td>0</td>\n",
       "    </tr>\n",
       "    <tr>\n",
       "      <th>6362618</th>\n",
       "      <td>743</td>\n",
       "      <td>TRANSFER</td>\n",
       "      <td>850002.52</td>\n",
       "      <td>C1685995037</td>\n",
       "      <td>850002.52</td>\n",
       "      <td>0.00</td>\n",
       "      <td>C2080388513</td>\n",
       "      <td>0.00</td>\n",
       "      <td>0.00</td>\n",
       "      <td>1</td>\n",
       "      <td>0</td>\n",
       "    </tr>\n",
       "    <tr>\n",
       "      <th>6362619</th>\n",
       "      <td>743</td>\n",
       "      <td>CASH_OUT</td>\n",
       "      <td>850002.52</td>\n",
       "      <td>C1280323807</td>\n",
       "      <td>850002.52</td>\n",
       "      <td>0.00</td>\n",
       "      <td>C873221189</td>\n",
       "      <td>6510099.11</td>\n",
       "      <td>7360101.63</td>\n",
       "      <td>1</td>\n",
       "      <td>0</td>\n",
       "    </tr>\n",
       "  </tbody>\n",
       "</table>\n",
       "<p>6362620 rows × 11 columns</p>\n",
       "</div>"
      ],
      "text/plain": [
       "         step      type      amount     nameOrig  oldbalanceOrg  \\\n",
       "0           1   PAYMENT     9839.64  C1231006815      170136.00   \n",
       "1           1   PAYMENT     1864.28  C1666544295       21249.00   \n",
       "2           1  TRANSFER      181.00  C1305486145         181.00   \n",
       "3           1  CASH_OUT      181.00   C840083671         181.00   \n",
       "4           1   PAYMENT    11668.14  C2048537720       41554.00   \n",
       "...       ...       ...         ...          ...            ...   \n",
       "6362615   743  CASH_OUT   339682.13   C786484425      339682.13   \n",
       "6362616   743  TRANSFER  6311409.28  C1529008245     6311409.28   \n",
       "6362617   743  CASH_OUT  6311409.28  C1162922333     6311409.28   \n",
       "6362618   743  TRANSFER   850002.52  C1685995037      850002.52   \n",
       "6362619   743  CASH_OUT   850002.52  C1280323807      850002.52   \n",
       "\n",
       "         newbalanceOrig     nameDest  oldbalanceDest  newbalanceDest  isFraud  \\\n",
       "0             160296.36  M1979787155            0.00            0.00        0   \n",
       "1              19384.72  M2044282225            0.00            0.00        0   \n",
       "2                  0.00   C553264065            0.00            0.00        1   \n",
       "3                  0.00    C38997010        21182.00            0.00        1   \n",
       "4              29885.86  M1230701703            0.00            0.00        0   \n",
       "...                 ...          ...             ...             ...      ...   \n",
       "6362615            0.00   C776919290            0.00       339682.13        1   \n",
       "6362616            0.00  C1881841831            0.00            0.00        1   \n",
       "6362617            0.00  C1365125890        68488.84      6379898.11        1   \n",
       "6362618            0.00  C2080388513            0.00            0.00        1   \n",
       "6362619            0.00   C873221189      6510099.11      7360101.63        1   \n",
       "\n",
       "         isFlaggedFraud  \n",
       "0                     0  \n",
       "1                     0  \n",
       "2                     0  \n",
       "3                     0  \n",
       "4                     0  \n",
       "...                 ...  \n",
       "6362615               0  \n",
       "6362616               0  \n",
       "6362617               0  \n",
       "6362618               0  \n",
       "6362619               0  \n",
       "\n",
       "[6362620 rows x 11 columns]"
      ]
     },
     "execution_count": 2,
     "metadata": {},
     "output_type": "execute_result"
    }
   ],
   "source": [
    "fraudulent = pd.read_csv(r\"C:\\Users\\Fraud.csv\")\n",
    "fraudulent"
   ]
  },
  {
   "cell_type": "code",
   "execution_count": 3,
   "id": "2de23341",
   "metadata": {},
   "outputs": [
    {
     "name": "stdout",
     "output_type": "stream",
     "text": [
      "<class 'pandas.core.frame.DataFrame'>\n",
      "RangeIndex: 6362620 entries, 0 to 6362619\n",
      "Data columns (total 11 columns):\n",
      " #   Column          Dtype  \n",
      "---  ------          -----  \n",
      " 0   step            int64  \n",
      " 1   type            object \n",
      " 2   amount          float64\n",
      " 3   nameOrig        object \n",
      " 4   oldbalanceOrg   float64\n",
      " 5   newbalanceOrig  float64\n",
      " 6   nameDest        object \n",
      " 7   oldbalanceDest  float64\n",
      " 8   newbalanceDest  float64\n",
      " 9   isFraud         int64  \n",
      " 10  isFlaggedFraud  int64  \n",
      "dtypes: float64(5), int64(3), object(3)\n",
      "memory usage: 534.0+ MB\n"
     ]
    }
   ],
   "source": [
    "fraudulent.info()"
   ]
  },
  {
   "cell_type": "code",
   "execution_count": 4,
   "id": "97f30c59",
   "metadata": {},
   "outputs": [
    {
     "data": {
      "text/plain": [
       "step              0\n",
       "type              0\n",
       "amount            0\n",
       "nameOrig          0\n",
       "oldbalanceOrg     0\n",
       "newbalanceOrig    0\n",
       "nameDest          0\n",
       "oldbalanceDest    0\n",
       "newbalanceDest    0\n",
       "isFraud           0\n",
       "isFlaggedFraud    0\n",
       "dtype: int64"
      ]
     },
     "execution_count": 4,
     "metadata": {},
     "output_type": "execute_result"
    }
   ],
   "source": [
    "fraudulent.isnull().sum()"
   ]
  },
  {
   "cell_type": "code",
   "execution_count": 5,
   "id": "6c8f46b6",
   "metadata": {},
   "outputs": [
    {
     "data": {
      "text/plain": [
       "CASH_OUT    2237500\n",
       "PAYMENT     2151495\n",
       "CASH_IN     1399284\n",
       "TRANSFER     532909\n",
       "DEBIT         41432\n",
       "Name: type, dtype: int64"
      ]
     },
     "execution_count": 5,
     "metadata": {},
     "output_type": "execute_result"
    }
   ],
   "source": [
    "fraudulent['type'].value_counts()"
   ]
  },
  {
   "cell_type": "code",
   "execution_count": 6,
   "id": "4b9d458f",
   "metadata": {},
   "outputs": [
    {
     "data": {
      "text/plain": [
       "C1902386530    3\n",
       "C363736674     3\n",
       "C545315117     3\n",
       "C724452879     3\n",
       "C1784010646    3\n",
       "              ..\n",
       "C98968405      1\n",
       "C720209255     1\n",
       "C1567523029    1\n",
       "C644777639     1\n",
       "C1280323807    1\n",
       "Name: nameOrig, Length: 6353307, dtype: int64"
      ]
     },
     "execution_count": 6,
     "metadata": {},
     "output_type": "execute_result"
    }
   ],
   "source": [
    "fraudulent['nameOrig'].value_counts()"
   ]
  },
  {
   "cell_type": "code",
   "execution_count": 7,
   "id": "6f80437c",
   "metadata": {},
   "outputs": [
    {
     "data": {
      "text/plain": [
       "C1286084959    113\n",
       "C985934102     109\n",
       "C665576141     105\n",
       "C2083562754    102\n",
       "C248609774     101\n",
       "              ... \n",
       "M1470027725      1\n",
       "M1330329251      1\n",
       "M1784358659      1\n",
       "M2081431099      1\n",
       "C2080388513      1\n",
       "Name: nameDest, Length: 2722362, dtype: int64"
      ]
     },
     "execution_count": 7,
     "metadata": {},
     "output_type": "execute_result"
    }
   ],
   "source": [
    "fraudulent['nameDest'].value_counts()"
   ]
  },
  {
   "cell_type": "markdown",
   "id": "dd9cd697",
   "metadata": {},
   "source": [
    "# Target Imbalance"
   ]
  },
  {
   "cell_type": "code",
   "execution_count": 8,
   "id": "c1866541",
   "metadata": {},
   "outputs": [
    {
     "data": {
      "text/plain": [
       "<AxesSubplot:>"
      ]
     },
     "execution_count": 8,
     "metadata": {},
     "output_type": "execute_result"
    },
    {
     "data": {
      "image/png": "[encoded data removed]",
      "text/plain": [
       "<Figure size 432x288 with 1 Axes>"
      ]
     },
     "metadata": {
      "needs_background": "light"
     },
     "output_type": "display_data"
    }
   ],
   "source": [
    "fraudulent.isFraud.value_counts().sort_values().plot(kind = 'barh')"
   ]
  },
  {
   "cell_type": "markdown",
   "id": "9c68740a",
   "metadata": {},
   "source": [
    "## Visualisng Null Values"
   ]
  },
  {
   "cell_type": "code",
   "execution_count": 9,
   "id": "12d57bc9",
   "metadata": {},
   "outputs": [
    {
     "data": {
      "text/plain": [
       "Text(0.5, 1.0, 'Total Missing Values')"
      ]
     },
     "execution_count": 9,
     "metadata": {},
     "output_type": "execute_result"
    },
    {
     "data": {
      "image/png": "[encoded data removed]",
      "text/plain": [
       "<Figure size 576x432 with 1 Axes>"
      ]
     },
     "metadata": {
      "needs_background": "light"
     },
     "output_type": "display_data"
    }
   ],
   "source": [
    "total = fraudulent.isnull().sum().sort_values(ascending=False)\n",
    "total_select = total.head(20)\n",
    "total_select.plot(kind=\"bar\", figsize = (8,6), fontsize = 10)\n",
    "\n",
    "plt.xlabel(\"Columns\", fontsize = 20)\n",
    "plt.ylabel(\"Count\", fontsize = 20)\n",
    "plt.title(\"Total Missing Values\", fontsize = 20)"
   ]
  },
  {
   "cell_type": "code",
   "execution_count": 10,
   "id": "96e55fa9",
   "metadata": {},
   "outputs": [],
   "source": [
    "#As we can clearly see there is no null values in our datatset"
   ]
  },
  {
   "cell_type": "markdown",
   "id": "b95e77d2",
   "metadata": {},
   "source": [
    "# Checking and resolving outliers"
   ]
  },
  {
   "cell_type": "markdown",
   "id": "1554fbac",
   "metadata": {},
   "source": [
    "## Seeing the skewness of the column"
   ]
  },
  {
   "cell_type": "code",
   "execution_count": 11,
   "id": "59b18e5e",
   "metadata": {},
   "outputs": [],
   "source": [
    "### The range of skewness for a fairly symmetrical bell curve distribution is between -0.5 and 0.5; moderate skewness\n",
    "### is -0.5 to -1.0 and 0.5 to 1.0; and highly skewed distribution is < -1.0 and > 1.0.\n"
   ]
  },
  {
   "cell_type": "code",
   "execution_count": 12,
   "id": "0633a19d",
   "metadata": {},
   "outputs": [
    {
     "name": "stdout",
     "output_type": "stream",
     "text": [
      "Skewness: 0.375177\n"
     ]
    }
   ],
   "source": [
    "print(\"Skewness: %f\" % fraudulent['step'].skew())"
   ]
  },
  {
   "cell_type": "code",
   "execution_count": 13,
   "id": "60bd60d5",
   "metadata": {},
   "outputs": [
    {
     "name": "stdout",
     "output_type": "stream",
     "text": [
      "Skewness: 30.993949\n"
     ]
    }
   ],
   "source": [
    "print(\"Skewness: %f\" % fraudulent['amount'].skew())"
   ]
  },
  {
   "cell_type": "code",
   "execution_count": 14,
   "id": "698863fe",
   "metadata": {},
   "outputs": [
    {
     "name": "stdout",
     "output_type": "stream",
     "text": [
      "Skewness: 5.249136\n"
     ]
    }
   ],
   "source": [
    "print(\"Skewness: %f\" % fraudulent['oldbalanceOrg'].skew())"
   ]
  },
  {
   "cell_type": "code",
   "execution_count": 15,
   "id": "7e36dc51",
   "metadata": {},
   "outputs": [
    {
     "name": "stdout",
     "output_type": "stream",
     "text": [
      "Skewness: 5.176884\n"
     ]
    }
   ],
   "source": [
    "print(\"Skewness: %f\" % fraudulent['newbalanceOrig'].skew())"
   ]
  },
  {
   "cell_type": "code",
   "execution_count": 16,
   "id": "e51ca1c7",
   "metadata": {},
   "outputs": [
    {
     "name": "stdout",
     "output_type": "stream",
     "text": [
      "Skewness: 19.921758\n"
     ]
    }
   ],
   "source": [
    "print(\"Skewness: %f\" % fraudulent['oldbalanceDest'].skew())"
   ]
  },
  {
   "cell_type": "code",
   "execution_count": 17,
   "id": "537c3393",
   "metadata": {},
   "outputs": [
    {
     "name": "stdout",
     "output_type": "stream",
     "text": [
      "Skewness: 19.352302\n"
     ]
    }
   ],
   "source": [
    "print(\"Skewness: %f\" % fraudulent['newbalanceDest'].skew())"
   ]
  },
  {
   "cell_type": "code",
   "execution_count": 18,
   "id": "5ff40f91",
   "metadata": {},
   "outputs": [
    {
     "name": "stdout",
     "output_type": "stream",
     "text": [
      "Skewness: 630.603629\n"
     ]
    }
   ],
   "source": [
    "print(\"Skewness: %f\" % fraudulent['isFlaggedFraud'].skew())"
   ]
  },
  {
   "cell_type": "markdown",
   "id": "d61bf9d1",
   "metadata": {},
   "source": [
    "## As we can clearly see that except the step column all other numerical cloumns are highly skewed\n",
    "\n",
    "## So, in that case we will use extreme oultliers(3 standard deviation) in every columns except the step column"
   ]
  },
  {
   "cell_type": "markdown",
   "id": "1f9b715d",
   "metadata": {},
   "source": [
    "## Visualising the kind of distribution using histogram and outliers using boxplot for every numerical column respectively"
   ]
  },
  {
   "cell_type": "code",
   "execution_count": 19,
   "id": "9acff898",
   "metadata": {},
   "outputs": [
    {
     "data": {
      "text/plain": [
       "Text(0, 0.5, 'isFraud')"
      ]
     },
     "execution_count": 19,
     "metadata": {},
     "output_type": "execute_result"
    },
    {
     "data": {
      "image/png": "[encoded data removed]",
      "text/plain": [
       "<Figure size 432x288 with 1 Axes>"
      ]
     },
     "metadata": {
      "needs_background": "light"
     },
     "output_type": "display_data"
    }
   ],
   "source": [
    "figure_1=fraudulent.step.hist(bins=50)\n",
    "figure_1.set_title('step')\n",
    "figure_1.set_xlabel('step')\n",
    "figure_1.set_ylabel('isFraud')"
   ]
  },
  {
   "cell_type": "code",
   "execution_count": 20,
   "id": "0c91daee",
   "metadata": {},
   "outputs": [
    {
     "data": {
      "text/plain": [
       "<AxesSubplot:>"
      ]
     },
     "execution_count": 20,
     "metadata": {},
     "output_type": "execute_result"
    },
    {
     "data": {
      "image/png": "[encoded data removed]",
      "text/plain": [
       "<Figure size 432x288 with 1 Axes>"
      ]
     },
     "metadata": {
      "needs_background": "light"
     },
     "output_type": "display_data"
    }
   ],
   "source": [
    "fraudulent.boxplot(column='step')"
   ]
  },
  {
   "cell_type": "code",
   "execution_count": 21,
   "id": "2acc1dfa",
   "metadata": {},
   "outputs": [
    {
     "data": {
      "text/plain": [
       "Text(0, 0.5, 'isFraud')"
      ]
     },
     "execution_count": 21,
     "metadata": {},
     "output_type": "execute_result"
    },
    {
     "data": {
      "image/png": "[encoded data removed]",
      "text/plain": [
       "<Figure size 432x288 with 1 Axes>"
      ]
     },
     "metadata": {
      "needs_background": "light"
     },
     "output_type": "display_data"
    }
   ],
   "source": [
    "figure_2=fraudulent.amount.hist(bins=50)\n",
    "figure_2.set_title('amount')\n",
    "figure_2.set_xlabel('amount')\n",
    "figure_2.set_ylabel('isFraud')"
   ]
  },
  {
   "cell_type": "code",
   "execution_count": 22,
   "id": "a02d95a1",
   "metadata": {},
   "outputs": [
    {
     "data": {
      "text/plain": [
       "<AxesSubplot:>"
      ]
     },
     "execution_count": 22,
     "metadata": {},
     "output_type": "execute_result"
    },
    {
     "data": {
      "image/png": "[encoded data removed]",
      "text/plain": [
       "<Figure size 432x288 with 1 Axes>"
      ]
     },
     "metadata": {
      "needs_background": "light"
     },
     "output_type": "display_data"
    }
   ],
   "source": [
    "fraudulent.boxplot(column='amount')"
   ]
  },
  {
   "cell_type": "code",
   "execution_count": 23,
   "id": "184a826e",
   "metadata": {},
   "outputs": [
    {
     "data": {
      "text/plain": [
       "Text(0, 0.5, 'isFraud')"
      ]
     },
     "execution_count": 23,
     "metadata": {},
     "output_type": "execute_result"
    },
    {
     "data": {
      "image/png": "[encoded data removed]",
      "text/plain": [
       "<Figure size 432x288 with 1 Axes>"
      ]
     },
     "metadata": {
      "needs_background": "light"
     },
     "output_type": "display_data"
    }
   ],
   "source": [
    "figure_3=fraudulent.oldbalanceOrg.hist(bins=50)\n",
    "figure_3.set_title('oldbalanceOrg')\n",
    "figure_3.set_xlabel('oldbalanceOrg')\n",
    "figure_3.set_ylabel('isFraud')"
   ]
  },
  {
   "cell_type": "code",
   "execution_count": 24,
   "id": "ba4ccbc5",
   "metadata": {},
   "outputs": [
    {
     "data": {
      "text/plain": [
       "<AxesSubplot:>"
      ]
     },
     "execution_count": 24,
     "metadata": {},
     "output_type": "execute_result"
    },
    {
     "data": {
      "image/png": "[encoded data removed]",
      "text/plain": [
       "<Figure size 432x288 with 1 Axes>"
      ]
     },
     "metadata": {
      "needs_background": "light"
     },
     "output_type": "display_data"
    }
   ],
   "source": [
    "fraudulent.boxplot(column='oldbalanceOrg')"
   ]
  },
  {
   "cell_type": "code",
   "execution_count": 25,
   "id": "f1f42ab5",
   "metadata": {},
   "outputs": [
    {
     "data": {
      "text/plain": [
       "Text(0, 0.5, 'isFraud')"
      ]
     },
     "execution_count": 25,
     "metadata": {},
     "output_type": "execute_result"
    },
    {
     "data": {
      "image/png": "[encoded data removed]",
      "text/plain": [
       "<Figure size 432x288 with 1 Axes>"
      ]
     },
     "metadata": {
      "needs_background": "light"
     },
     "output_type": "display_data"
    }
   ],
   "source": [
    "figure_4=fraudulent.newbalanceOrig.hist(bins=50)\n",
    "figure_4.set_title('newbalanceOrig')\n",
    "figure_4.set_xlabel('newbalanceOrig')\n",
    "figure_4.set_ylabel('isFraud')"
   ]
  },
  {
   "cell_type": "code",
   "execution_count": 26,
   "id": "719ee85f",
   "metadata": {},
   "outputs": [
    {
     "data": {
      "text/plain": [
       "<AxesSubplot:>"
      ]
     },
     "execution_count": 26,
     "metadata": {},
     "output_type": "execute_result"
    },
    {
     "data": {
      "image/png": "[encoded data removed]",
      "text/plain": [
       "<Figure size 432x288 with 1 Axes>"
      ]
     },
     "metadata": {
      "needs_background": "light"
     },
     "output_type": "display_data"
    }
   ],
   "source": [
    "fraudulent.boxplot(column='newbalanceOrig')"
   ]
  },
  {
   "cell_type": "code",
   "execution_count": 27,
   "id": "4168a117",
   "metadata": {},
   "outputs": [
    {
     "data": {
      "text/plain": [
       "Text(0, 0.5, 'isFraud')"
      ]
     },
     "execution_count": 27,
     "metadata": {},
     "output_type": "execute_result"
    },
    {
     "data": {
      "image/png": "[encoded data removed]",
      "text/plain": [
       "<Figure size 432x288 with 1 Axes>"
      ]
     },
     "metadata": {
      "needs_background": "light"
     },
     "output_type": "display_data"
    }
   ],
   "source": [
    "figure_5=fraudulent.oldbalanceDest.hist(bins=50)\n",
    "figure_5.set_title('oldbalanceDest')\n",
    "figure_5.set_xlabel('oldbalanceDest')\n",
    "figure_5.set_ylabel('isFraud')"
   ]
  },
  {
   "cell_type": "code",
   "execution_count": 28,
   "id": "3aaa0260",
   "metadata": {},
   "outputs": [
    {
     "data": {
      "text/plain": [
       "<AxesSubplot:>"
      ]
     },
     "execution_count": 28,
     "metadata": {},
     "output_type": "execute_result"
    },
    {
     "data": {
      "image/png": "[encoded data removed]",
      "text/plain": [
       "<Figure size 432x288 with 1 Axes>"
      ]
     },
     "metadata": {
      "needs_background": "light"
     },
     "output_type": "display_data"
    }
   ],
   "source": [
    "fraudulent.boxplot(column='oldbalanceDest')"
   ]
  },
  {
   "cell_type": "code",
   "execution_count": 29,
   "id": "49ebf457",
   "metadata": {},
   "outputs": [
    {
     "data": {
      "text/plain": [
       "Text(0, 0.5, 'isFraud')"
      ]
     },
     "execution_count": 29,
     "metadata": {},
     "output_type": "execute_result"
    },
    {
     "data": {
      "image/png": "[encoded data removed]",
      "text/plain": [
       "<Figure size 432x288 with 1 Axes>"
      ]
     },
     "metadata": {
      "needs_background": "light"
     },
     "output_type": "display_data"
    }
   ],
   "source": [
    "figure_6=fraudulent.newbalanceDest.hist(bins=50)\n",
    "figure_6.set_title('newbalanceDest')\n",
    "figure_6.set_xlabel('newbalanceDest')\n",
    "figure_6.set_ylabel('isFraud')"
   ]
  },
  {
   "cell_type": "code",
   "execution_count": 30,
   "id": "62710e35",
   "metadata": {},
   "outputs": [
    {
     "data": {
      "text/plain": [
       "<AxesSubplot:>"
      ]
     },
     "execution_count": 30,
     "metadata": {},
     "output_type": "execute_result"
    },
    {
     "data": {
      "image/png": "[encoded data removed]",
      "text/plain": [
       "<Figure size 432x288 with 1 Axes>"
      ]
     },
     "metadata": {
      "needs_background": "light"
     },
     "output_type": "display_data"
    }
   ],
   "source": [
    "fraudulent.boxplot(column='newbalanceDest')"
   ]
  },
  {
   "cell_type": "code",
   "execution_count": 31,
   "id": "e01857be",
   "metadata": {},
   "outputs": [
    {
     "data": {
      "text/plain": [
       "Text(0, 0.5, 'isFraud')"
      ]
     },
     "execution_count": 31,
     "metadata": {},
     "output_type": "execute_result"
    },
    {
     "data": {
      "image/png": "[encoded data removed]",
      "text/plain": [
       "<Figure size 432x288 with 1 Axes>"
      ]
     },
     "metadata": {
      "needs_background": "light"
     },
     "output_type": "display_data"
    }
   ],
   "source": [
    "figure_7=fraudulent.isFlaggedFraud.hist(bins=50)\n",
    "figure_7.set_title('isFlaggedFraud')\n",
    "figure_7.set_xlabel('isFlaggedFraud')\n",
    "figure_7.set_ylabel('isFraud')"
   ]
  },
  {
   "cell_type": "code",
   "execution_count": 32,
   "id": "575c1cf5",
   "metadata": {},
   "outputs": [
    {
     "data": {
      "text/plain": [
       "<AxesSubplot:>"
      ]
     },
     "execution_count": 32,
     "metadata": {},
     "output_type": "execute_result"
    },
    {
     "data": {
      "image/png": "[encoded data removed]",
      "text/plain": [
       "<Figure size 432x288 with 1 Axes>"
      ]
     },
     "metadata": {
      "needs_background": "light"
     },
     "output_type": "display_data"
    }
   ],
   "source": [
    "fraudulent.boxplot(column='isFlaggedFraud')"
   ]
  },
  {
   "cell_type": "markdown",
   "id": "9236fd0b",
   "metadata": {},
   "source": [
    "## Resolving the outliers in step column"
   ]
  },
  {
   "cell_type": "code",
   "execution_count": 33,
   "id": "78fa39e1",
   "metadata": {},
   "outputs": [
    {
     "data": {
      "text/plain": [
       "count    6.362620e+06\n",
       "mean     2.433972e+02\n",
       "std      1.423320e+02\n",
       "min      1.000000e+00\n",
       "25%      1.560000e+02\n",
       "50%      2.390000e+02\n",
       "75%      3.350000e+02\n",
       "max      7.430000e+02\n",
       "Name: step, dtype: float64"
      ]
     },
     "execution_count": 33,
     "metadata": {},
     "output_type": "execute_result"
    }
   ],
   "source": [
    "fraudulent['step'].describe()"
   ]
  },
  {
   "cell_type": "code",
   "execution_count": 34,
   "id": "1723477c",
   "metadata": {},
   "outputs": [
    {
     "data": {
      "text/plain": [
       "243.39724563151657"
      ]
     },
     "execution_count": 34,
     "metadata": {},
     "output_type": "execute_result"
    }
   ],
   "source": [
    "fraudulent['step'].mean()"
   ]
  },
  {
   "cell_type": "code",
   "execution_count": 35,
   "id": "423651db",
   "metadata": {},
   "outputs": [
    {
     "data": {
      "text/plain": [
       "743"
      ]
     },
     "execution_count": 35,
     "metadata": {},
     "output_type": "execute_result"
    }
   ],
   "source": [
    "fraudulent['step'].max()"
   ]
  },
  {
   "cell_type": "code",
   "execution_count": 36,
   "id": "7b1d3f05",
   "metadata": {},
   "outputs": [
    {
     "name": "stdout",
     "output_type": "stream",
     "text": [
      "-183.59866751590442\n",
      "670.3931587789375\n",
      "243.39724563151657\n"
     ]
    },
    {
     "data": {
      "text/plain": [
       "(None, None, None)"
      ]
     },
     "execution_count": 36,
     "metadata": {},
     "output_type": "execute_result"
    }
   ],
   "source": [
    "##### Assuming step follows A Gaussian Distribution we will calculate the boundaries which differentiates the outliers\n",
    "\n",
    "upper_boundary=fraudulent['step'].mean() + 3* fraudulent['step'].std()\n",
    "lower_boundary=fraudulent['step'].mean() - 3* fraudulent['step'].std()\n",
    "print(lower_boundary), print(upper_boundary),print(fraudulent['step'].mean())"
   ]
  },
  {
   "cell_type": "markdown",
   "id": "e49ec81f",
   "metadata": {},
   "source": [
    "## Resolving the outliers in amount column"
   ]
  },
  {
   "cell_type": "code",
   "execution_count": 37,
   "id": "33da920e",
   "metadata": {},
   "outputs": [
    {
     "data": {
      "text/plain": [
       "count    6.362620e+06\n",
       "mean     1.798619e+05\n",
       "std      6.038582e+05\n",
       "min      0.000000e+00\n",
       "25%      1.338957e+04\n",
       "50%      7.487194e+04\n",
       "75%      2.087215e+05\n",
       "max      9.244552e+07\n",
       "Name: amount, dtype: float64"
      ]
     },
     "execution_count": 37,
     "metadata": {},
     "output_type": "execute_result"
    }
   ],
   "source": [
    "fraudulent['amount'].describe()"
   ]
  },
  {
   "cell_type": "code",
   "execution_count": 38,
   "id": "b970f436",
   "metadata": {},
   "outputs": [
    {
     "data": {
      "text/plain": [
       "92445516.64"
      ]
     },
     "execution_count": 38,
     "metadata": {},
     "output_type": "execute_result"
    }
   ],
   "source": [
    "fraudulent['amount'].max()"
   ]
  },
  {
   "cell_type": "code",
   "execution_count": 39,
   "id": "c2cbd7eb",
   "metadata": {},
   "outputs": [
    {
     "data": {
      "text/plain": [
       "179861.90354912292"
      ]
     },
     "execution_count": 39,
     "metadata": {},
     "output_type": "execute_result"
    }
   ],
   "source": [
    "fraudulent['amount'].mean()"
   ]
  },
  {
   "cell_type": "code",
   "execution_count": 40,
   "id": "4d420bca",
   "metadata": {},
   "outputs": [
    {
     "data": {
      "text/plain": [
       "195331.9075"
      ]
     },
     "execution_count": 40,
     "metadata": {},
     "output_type": "execute_result"
    }
   ],
   "source": [
    "iqr_1 = fraudulent.amount.quantile(0.75)-fraudulent.amount.quantile(0.25)\n",
    "iqr_1"
   ]
  },
  {
   "cell_type": "code",
   "execution_count": 41,
   "id": "e8054696",
   "metadata": {},
   "outputs": [
    {
     "name": "stdout",
     "output_type": "stream",
     "text": [
      "-572606.1525000001\n",
      "794717.2000000001\n"
     ]
    },
    {
     "data": {
      "text/plain": [
       "(None, None)"
      ]
     },
     "execution_count": 41,
     "metadata": {},
     "output_type": "execute_result"
    }
   ],
   "source": [
    "### Extreme outliers\n",
    "lower_bridge_1=fraudulent['amount'].quantile(0.25)-(iqr_1*3)\n",
    "upper_bridge_1=fraudulent['amount'].quantile(0.75)+(iqr_1*3)\n",
    "print(lower_bridge_1), print(upper_bridge_1)\n"
   ]
  },
  {
   "cell_type": "markdown",
   "id": "0a791a6e",
   "metadata": {},
   "source": [
    "## Resolving the outliers in oldbalanceOrg column"
   ]
  },
  {
   "cell_type": "code",
   "execution_count": 42,
   "id": "394a8ae7",
   "metadata": {},
   "outputs": [
    {
     "data": {
      "text/plain": [
       "count    6.362620e+06\n",
       "mean     8.338831e+05\n",
       "std      2.888243e+06\n",
       "min      0.000000e+00\n",
       "25%      0.000000e+00\n",
       "50%      1.420800e+04\n",
       "75%      1.073152e+05\n",
       "max      5.958504e+07\n",
       "Name: oldbalanceOrg, dtype: float64"
      ]
     },
     "execution_count": 42,
     "metadata": {},
     "output_type": "execute_result"
    }
   ],
   "source": [
    "fraudulent['oldbalanceOrg'].describe()"
   ]
  },
  {
   "cell_type": "code",
   "execution_count": 43,
   "id": "15f8be3e",
   "metadata": {},
   "outputs": [
    {
     "data": {
      "text/plain": [
       "833883.1040744851"
      ]
     },
     "execution_count": 43,
     "metadata": {},
     "output_type": "execute_result"
    }
   ],
   "source": [
    "fraudulent['oldbalanceOrg'].mean()"
   ]
  },
  {
   "cell_type": "code",
   "execution_count": 44,
   "id": "56ba64d1",
   "metadata": {},
   "outputs": [
    {
     "data": {
      "text/plain": [
       "59585040.37"
      ]
     },
     "execution_count": 44,
     "metadata": {},
     "output_type": "execute_result"
    }
   ],
   "source": [
    "fraudulent['oldbalanceOrg'].max()"
   ]
  },
  {
   "cell_type": "code",
   "execution_count": 45,
   "id": "57160d17",
   "metadata": {},
   "outputs": [
    {
     "data": {
      "text/plain": [
       "107315.175"
      ]
     },
     "execution_count": 45,
     "metadata": {},
     "output_type": "execute_result"
    }
   ],
   "source": [
    "iqr_2 = fraudulent.oldbalanceOrg.quantile(0.75)-fraudulent.oldbalanceOrg.quantile(0.25)\n",
    "iqr_2"
   ]
  },
  {
   "cell_type": "code",
   "execution_count": 46,
   "id": "2770c429",
   "metadata": {},
   "outputs": [
    {
     "name": "stdout",
     "output_type": "stream",
     "text": [
      "-321945.525\n",
      "429260.7\n"
     ]
    },
    {
     "data": {
      "text/plain": [
       "(None, None)"
      ]
     },
     "execution_count": 46,
     "metadata": {},
     "output_type": "execute_result"
    }
   ],
   "source": [
    "### Extreme outliers\n",
    "lower_bridge_2=fraudulent['oldbalanceOrg'].quantile(0.25)-(iqr_2*3)\n",
    "upper_bridge_2=fraudulent['oldbalanceOrg'].quantile(0.75)+(iqr_2*3)\n",
    "print(lower_bridge_2), print(upper_bridge_2)\n"
   ]
  },
  {
   "cell_type": "markdown",
   "id": "61e41366",
   "metadata": {},
   "source": [
    "## Resolving the outliers in newbalanceOrig column"
   ]
  },
  {
   "cell_type": "code",
   "execution_count": 47,
   "id": "9c0171c6",
   "metadata": {},
   "outputs": [
    {
     "data": {
      "text/plain": [
       "count    6.362620e+06\n",
       "mean     8.551137e+05\n",
       "std      2.924049e+06\n",
       "min      0.000000e+00\n",
       "25%      0.000000e+00\n",
       "50%      0.000000e+00\n",
       "75%      1.442584e+05\n",
       "max      4.958504e+07\n",
       "Name: newbalanceOrig, dtype: float64"
      ]
     },
     "execution_count": 47,
     "metadata": {},
     "output_type": "execute_result"
    }
   ],
   "source": [
    "fraudulent['newbalanceOrig'].describe()"
   ]
  },
  {
   "cell_type": "code",
   "execution_count": 48,
   "id": "4b4decc1",
   "metadata": {},
   "outputs": [
    {
     "data": {
      "text/plain": [
       "855113.6685785672"
      ]
     },
     "execution_count": 48,
     "metadata": {},
     "output_type": "execute_result"
    }
   ],
   "source": [
    "fraudulent['newbalanceOrig'].mean()"
   ]
  },
  {
   "cell_type": "code",
   "execution_count": 49,
   "id": "390313af",
   "metadata": {},
   "outputs": [
    {
     "data": {
      "text/plain": [
       "49585040.37"
      ]
     },
     "execution_count": 49,
     "metadata": {},
     "output_type": "execute_result"
    }
   ],
   "source": [
    "fraudulent['newbalanceOrig'].max()"
   ]
  },
  {
   "cell_type": "code",
   "execution_count": 50,
   "id": "5f4f31b7",
   "metadata": {},
   "outputs": [
    {
     "data": {
      "text/plain": [
       "144258.41"
      ]
     },
     "execution_count": 50,
     "metadata": {},
     "output_type": "execute_result"
    }
   ],
   "source": [
    "iqr_3 = fraudulent.newbalanceOrig.quantile(0.75)-fraudulent.newbalanceOrig.quantile(0.25)\n",
    "iqr_3"
   ]
  },
  {
   "cell_type": "code",
   "execution_count": 51,
   "id": "93b145ac",
   "metadata": {},
   "outputs": [
    {
     "name": "stdout",
     "output_type": "stream",
     "text": [
      "-432775.23\n",
      "577033.64\n"
     ]
    },
    {
     "data": {
      "text/plain": [
       "(None, None)"
      ]
     },
     "execution_count": 51,
     "metadata": {},
     "output_type": "execute_result"
    }
   ],
   "source": [
    "### Extreme outliers\n",
    "lower_bridge_3=fraudulent['newbalanceOrig'].quantile(0.25)-(iqr_3*3)\n",
    "upper_bridge_3=fraudulent['newbalanceOrig'].quantile(0.75)+(iqr_3*3)\n",
    "print(lower_bridge_3), print(upper_bridge_3)\n"
   ]
  },
  {
   "cell_type": "markdown",
   "id": "dc320906",
   "metadata": {},
   "source": [
    "## Resolving the outliers in oldbalanceDest column"
   ]
  },
  {
   "cell_type": "code",
   "execution_count": 52,
   "id": "1ff3ece4",
   "metadata": {},
   "outputs": [
    {
     "data": {
      "text/plain": [
       "count    6.362620e+06\n",
       "mean     1.100702e+06\n",
       "std      3.399180e+06\n",
       "min      0.000000e+00\n",
       "25%      0.000000e+00\n",
       "50%      1.327057e+05\n",
       "75%      9.430367e+05\n",
       "max      3.560159e+08\n",
       "Name: oldbalanceDest, dtype: float64"
      ]
     },
     "execution_count": 52,
     "metadata": {},
     "output_type": "execute_result"
    }
   ],
   "source": [
    "fraudulent['oldbalanceDest'].describe()"
   ]
  },
  {
   "cell_type": "code",
   "execution_count": 53,
   "id": "63e4c4f6",
   "metadata": {},
   "outputs": [
    {
     "data": {
      "text/plain": [
       "1100701.6665196999"
      ]
     },
     "execution_count": 53,
     "metadata": {},
     "output_type": "execute_result"
    }
   ],
   "source": [
    "fraudulent['oldbalanceDest'].mean()"
   ]
  },
  {
   "cell_type": "code",
   "execution_count": 54,
   "id": "bf3aeea4",
   "metadata": {},
   "outputs": [
    {
     "data": {
      "text/plain": [
       "356015889.35"
      ]
     },
     "execution_count": 54,
     "metadata": {},
     "output_type": "execute_result"
    }
   ],
   "source": [
    "fraudulent['oldbalanceDest'].max()"
   ]
  },
  {
   "cell_type": "code",
   "execution_count": 55,
   "id": "53665631",
   "metadata": {},
   "outputs": [
    {
     "data": {
      "text/plain": [
       "943036.7075"
      ]
     },
     "execution_count": 55,
     "metadata": {},
     "output_type": "execute_result"
    }
   ],
   "source": [
    "iqr_4 = fraudulent.oldbalanceDest.quantile(0.75)-fraudulent.oldbalanceDest.quantile(0.25)\n",
    "iqr_4"
   ]
  },
  {
   "cell_type": "code",
   "execution_count": 56,
   "id": "242f96aa",
   "metadata": {},
   "outputs": [
    {
     "name": "stdout",
     "output_type": "stream",
     "text": [
      "-2829110.1225\n",
      "3772146.83\n"
     ]
    },
    {
     "data": {
      "text/plain": [
       "(None, None)"
      ]
     },
     "execution_count": 56,
     "metadata": {},
     "output_type": "execute_result"
    }
   ],
   "source": [
    "### Extreme outliers\n",
    "lower_bridge_4=fraudulent['oldbalanceDest'].quantile(0.25)-(iqr_4*3)\n",
    "upper_bridge_4=fraudulent['oldbalanceDest'].quantile(0.75)+(iqr_4*3)\n",
    "print(lower_bridge_4), print(upper_bridge_4)\n"
   ]
  },
  {
   "cell_type": "markdown",
   "id": "a7262004",
   "metadata": {},
   "source": [
    "## Resolving the outliers in newbalanceDest column"
   ]
  },
  {
   "cell_type": "code",
   "execution_count": 57,
   "id": "ac09667b",
   "metadata": {},
   "outputs": [
    {
     "data": {
      "text/plain": [
       "count    6.362620e+06\n",
       "mean     1.224996e+06\n",
       "std      3.674129e+06\n",
       "min      0.000000e+00\n",
       "25%      0.000000e+00\n",
       "50%      2.146614e+05\n",
       "75%      1.111909e+06\n",
       "max      3.561793e+08\n",
       "Name: newbalanceDest, dtype: float64"
      ]
     },
     "execution_count": 57,
     "metadata": {},
     "output_type": "execute_result"
    }
   ],
   "source": [
    "fraudulent['newbalanceDest'].describe()"
   ]
  },
  {
   "cell_type": "code",
   "execution_count": 58,
   "id": "00c08757",
   "metadata": {},
   "outputs": [
    {
     "data": {
      "text/plain": [
       "1224996.3982020712"
      ]
     },
     "execution_count": 58,
     "metadata": {},
     "output_type": "execute_result"
    }
   ],
   "source": [
    "fraudulent['newbalanceDest'].mean()"
   ]
  },
  {
   "cell_type": "code",
   "execution_count": 59,
   "id": "ddb72430",
   "metadata": {},
   "outputs": [
    {
     "data": {
      "text/plain": [
       "356179278.92"
      ]
     },
     "execution_count": 59,
     "metadata": {},
     "output_type": "execute_result"
    }
   ],
   "source": [
    "fraudulent['newbalanceDest'].max()"
   ]
  },
  {
   "cell_type": "code",
   "execution_count": 60,
   "id": "0c2c997b",
   "metadata": {},
   "outputs": [
    {
     "data": {
      "text/plain": [
       "1111909.25"
      ]
     },
     "execution_count": 60,
     "metadata": {},
     "output_type": "execute_result"
    }
   ],
   "source": [
    "iqr_5 = fraudulent.newbalanceDest.quantile(0.75)-fraudulent.newbalanceDest.quantile(0.25)\n",
    "iqr_5"
   ]
  },
  {
   "cell_type": "code",
   "execution_count": 61,
   "id": "b4b81f1b",
   "metadata": {},
   "outputs": [
    {
     "name": "stdout",
     "output_type": "stream",
     "text": [
      "-3335727.75\n",
      "4447637.0\n"
     ]
    },
    {
     "data": {
      "text/plain": [
       "(None, None)"
      ]
     },
     "execution_count": 61,
     "metadata": {},
     "output_type": "execute_result"
    }
   ],
   "source": [
    "### Extreme outliers\n",
    "lower_bridge_5=fraudulent['newbalanceDest'].quantile(0.25)-(iqr_5*3)\n",
    "upper_bridge_5=fraudulent['newbalanceDest'].quantile(0.75)+(iqr_5*3)\n",
    "print(lower_bridge_5), print(upper_bridge_5)\n"
   ]
  },
  {
   "cell_type": "code",
   "execution_count": 62,
   "id": "a7100fd7",
   "metadata": {},
   "outputs": [],
   "source": [
    "data = fraudulent.copy()"
   ]
  },
  {
   "cell_type": "markdown",
   "id": "6ded2331",
   "metadata": {},
   "source": [
    "# Removing  the outliers together"
   ]
  },
  {
   "cell_type": "code",
   "execution_count": 63,
   "id": "7ea5cefe",
   "metadata": {},
   "outputs": [
    {
     "data": {
      "text/html": [
       "<div>\n",
       "<style scoped>\n",
       "    .dataframe tbody tr th:only-of-type {\n",
       "        vertical-align: middle;\n",
       "    }\n",
       "\n",
       "    .dataframe tbody tr th {\n",
       "        vertical-align: top;\n",
       "    }\n",
       "\n",
       "    .dataframe thead th {\n",
       "        text-align: right;\n",
       "    }\n",
       "</style>\n",
       "<table border=\"1\" class=\"dataframe\">\n",
       "  <thead>\n",
       "    <tr style=\"text-align: right;\">\n",
       "      <th></th>\n",
       "      <th>step</th>\n",
       "      <th>type</th>\n",
       "      <th>amount</th>\n",
       "      <th>nameOrig</th>\n",
       "      <th>oldbalanceOrg</th>\n",
       "      <th>newbalanceOrig</th>\n",
       "      <th>nameDest</th>\n",
       "      <th>oldbalanceDest</th>\n",
       "      <th>newbalanceDest</th>\n",
       "      <th>isFraud</th>\n",
       "      <th>isFlaggedFraud</th>\n",
       "    </tr>\n",
       "  </thead>\n",
       "  <tbody>\n",
       "    <tr>\n",
       "      <th>14</th>\n",
       "      <td>1</td>\n",
       "      <td>PAYMENT</td>\n",
       "      <td>4098.78</td>\n",
       "      <td>C1026483832</td>\n",
       "      <td>503264.00</td>\n",
       "      <td>499165.22</td>\n",
       "      <td>M1635378213</td>\n",
       "      <td>0.00</td>\n",
       "      <td>0.00</td>\n",
       "      <td>0</td>\n",
       "      <td>0</td>\n",
       "    </tr>\n",
       "    <tr>\n",
       "      <th>62</th>\n",
       "      <td>1</td>\n",
       "      <td>DEBIT</td>\n",
       "      <td>8727.74</td>\n",
       "      <td>C166694583</td>\n",
       "      <td>882770.00</td>\n",
       "      <td>874042.26</td>\n",
       "      <td>C1129670968</td>\n",
       "      <td>12636.00</td>\n",
       "      <td>0.00</td>\n",
       "      <td>0</td>\n",
       "      <td>0</td>\n",
       "    </tr>\n",
       "    <tr>\n",
       "      <th>63</th>\n",
       "      <td>1</td>\n",
       "      <td>PAYMENT</td>\n",
       "      <td>2599.46</td>\n",
       "      <td>C885910946</td>\n",
       "      <td>874042.26</td>\n",
       "      <td>871442.79</td>\n",
       "      <td>M1860591867</td>\n",
       "      <td>0.00</td>\n",
       "      <td>0.00</td>\n",
       "      <td>0</td>\n",
       "      <td>0</td>\n",
       "    </tr>\n",
       "    <tr>\n",
       "      <th>241</th>\n",
       "      <td>1</td>\n",
       "      <td>PAYMENT</td>\n",
       "      <td>4635.18</td>\n",
       "      <td>C1110698130</td>\n",
       "      <td>6313782.05</td>\n",
       "      <td>6309146.87</td>\n",
       "      <td>M125644421</td>\n",
       "      <td>0.00</td>\n",
       "      <td>0.00</td>\n",
       "      <td>0</td>\n",
       "      <td>0</td>\n",
       "    </tr>\n",
       "    <tr>\n",
       "      <th>242</th>\n",
       "      <td>1</td>\n",
       "      <td>PAYMENT</td>\n",
       "      <td>1267.97</td>\n",
       "      <td>C1053632127</td>\n",
       "      <td>6309146.87</td>\n",
       "      <td>6307878.90</td>\n",
       "      <td>M1493158871</td>\n",
       "      <td>0.00</td>\n",
       "      <td>0.00</td>\n",
       "      <td>0</td>\n",
       "      <td>0</td>\n",
       "    </tr>\n",
       "    <tr>\n",
       "      <th>...</th>\n",
       "      <td>...</td>\n",
       "      <td>...</td>\n",
       "      <td>...</td>\n",
       "      <td>...</td>\n",
       "      <td>...</td>\n",
       "      <td>...</td>\n",
       "      <td>...</td>\n",
       "      <td>...</td>\n",
       "      <td>...</td>\n",
       "      <td>...</td>\n",
       "      <td>...</td>\n",
       "    </tr>\n",
       "    <tr>\n",
       "      <th>6362613</th>\n",
       "      <td>743</td>\n",
       "      <td>CASH_OUT</td>\n",
       "      <td>1258818.82</td>\n",
       "      <td>C1436118706</td>\n",
       "      <td>1258818.82</td>\n",
       "      <td>0.00</td>\n",
       "      <td>C1240760502</td>\n",
       "      <td>503464.50</td>\n",
       "      <td>1762283.33</td>\n",
       "      <td>1</td>\n",
       "      <td>0</td>\n",
       "    </tr>\n",
       "    <tr>\n",
       "      <th>6362616</th>\n",
       "      <td>743</td>\n",
       "      <td>TRANSFER</td>\n",
       "      <td>6311409.28</td>\n",
       "      <td>C1529008245</td>\n",
       "      <td>6311409.28</td>\n",
       "      <td>0.00</td>\n",
       "      <td>C1881841831</td>\n",
       "      <td>0.00</td>\n",
       "      <td>0.00</td>\n",
       "      <td>1</td>\n",
       "      <td>0</td>\n",
       "    </tr>\n",
       "    <tr>\n",
       "      <th>6362617</th>\n",
       "      <td>743</td>\n",
       "      <td>CASH_OUT</td>\n",
       "      <td>6311409.28</td>\n",
       "      <td>C1162922333</td>\n",
       "      <td>6311409.28</td>\n",
       "      <td>0.00</td>\n",
       "      <td>C1365125890</td>\n",
       "      <td>68488.84</td>\n",
       "      <td>6379898.11</td>\n",
       "      <td>1</td>\n",
       "      <td>0</td>\n",
       "    </tr>\n",
       "    <tr>\n",
       "      <th>6362618</th>\n",
       "      <td>743</td>\n",
       "      <td>TRANSFER</td>\n",
       "      <td>850002.52</td>\n",
       "      <td>C1685995037</td>\n",
       "      <td>850002.52</td>\n",
       "      <td>0.00</td>\n",
       "      <td>C2080388513</td>\n",
       "      <td>0.00</td>\n",
       "      <td>0.00</td>\n",
       "      <td>1</td>\n",
       "      <td>0</td>\n",
       "    </tr>\n",
       "    <tr>\n",
       "      <th>6362619</th>\n",
       "      <td>743</td>\n",
       "      <td>CASH_OUT</td>\n",
       "      <td>850002.52</td>\n",
       "      <td>C1280323807</td>\n",
       "      <td>850002.52</td>\n",
       "      <td>0.00</td>\n",
       "      <td>C873221189</td>\n",
       "      <td>6510099.11</td>\n",
       "      <td>7360101.63</td>\n",
       "      <td>1</td>\n",
       "      <td>0</td>\n",
       "    </tr>\n",
       "  </tbody>\n",
       "</table>\n",
       "<p>929807 rows × 11 columns</p>\n",
       "</div>"
      ],
      "text/plain": [
       "         step      type      amount     nameOrig  oldbalanceOrg  \\\n",
       "14          1   PAYMENT     4098.78  C1026483832      503264.00   \n",
       "62          1     DEBIT     8727.74   C166694583      882770.00   \n",
       "63          1   PAYMENT     2599.46   C885910946      874042.26   \n",
       "241         1   PAYMENT     4635.18  C1110698130     6313782.05   \n",
       "242         1   PAYMENT     1267.97  C1053632127     6309146.87   \n",
       "...       ...       ...         ...          ...            ...   \n",
       "6362613   743  CASH_OUT  1258818.82  C1436118706     1258818.82   \n",
       "6362616   743  TRANSFER  6311409.28  C1529008245     6311409.28   \n",
       "6362617   743  CASH_OUT  6311409.28  C1162922333     6311409.28   \n",
       "6362618   743  TRANSFER   850002.52  C1685995037      850002.52   \n",
       "6362619   743  CASH_OUT   850002.52  C1280323807      850002.52   \n",
       "\n",
       "         newbalanceOrig     nameDest  oldbalanceDest  newbalanceDest  isFraud  \\\n",
       "14            499165.22  M1635378213            0.00            0.00        0   \n",
       "62            874042.26  C1129670968        12636.00            0.00        0   \n",
       "63            871442.79  M1860591867            0.00            0.00        0   \n",
       "241          6309146.87   M125644421            0.00            0.00        0   \n",
       "242          6307878.90  M1493158871            0.00            0.00        0   \n",
       "...                 ...          ...             ...             ...      ...   \n",
       "6362613            0.00  C1240760502       503464.50      1762283.33        1   \n",
       "6362616            0.00  C1881841831            0.00            0.00        1   \n",
       "6362617            0.00  C1365125890        68488.84      6379898.11        1   \n",
       "6362618            0.00  C2080388513            0.00            0.00        1   \n",
       "6362619            0.00   C873221189      6510099.11      7360101.63        1   \n",
       "\n",
       "         isFlaggedFraud  \n",
       "14                    0  \n",
       "62                    0  \n",
       "63                    0  \n",
       "241                   0  \n",
       "242                   0  \n",
       "...                 ...  \n",
       "6362613               0  \n",
       "6362616               0  \n",
       "6362617               0  \n",
       "6362618               0  \n",
       "6362619               0  \n",
       "\n",
       "[929807 rows x 11 columns]"
      ]
     },
     "execution_count": 63,
     "metadata": {},
     "output_type": "execute_result"
    }
   ],
   "source": [
    "data = data[(data.oldbalanceOrg>upper_bridge_2)]\n",
    "data"
   ]
  },
  {
   "cell_type": "code",
   "execution_count": 64,
   "id": "1e1b04be",
   "metadata": {},
   "outputs": [
    {
     "data": {
      "text/html": [
       "<div>\n",
       "<style scoped>\n",
       "    .dataframe tbody tr th:only-of-type {\n",
       "        vertical-align: middle;\n",
       "    }\n",
       "\n",
       "    .dataframe tbody tr th {\n",
       "        vertical-align: top;\n",
       "    }\n",
       "\n",
       "    .dataframe thead th {\n",
       "        text-align: right;\n",
       "    }\n",
       "</style>\n",
       "<table border=\"1\" class=\"dataframe\">\n",
       "  <thead>\n",
       "    <tr style=\"text-align: right;\">\n",
       "      <th></th>\n",
       "      <th>step</th>\n",
       "      <th>type</th>\n",
       "      <th>amount</th>\n",
       "      <th>nameOrig</th>\n",
       "      <th>oldbalanceOrg</th>\n",
       "      <th>newbalanceOrig</th>\n",
       "      <th>nameDest</th>\n",
       "      <th>oldbalanceDest</th>\n",
       "      <th>newbalanceDest</th>\n",
       "      <th>isFraud</th>\n",
       "      <th>isFlaggedFraud</th>\n",
       "    </tr>\n",
       "  </thead>\n",
       "  <tbody>\n",
       "    <tr>\n",
       "      <th>62</th>\n",
       "      <td>1</td>\n",
       "      <td>DEBIT</td>\n",
       "      <td>8727.74</td>\n",
       "      <td>C166694583</td>\n",
       "      <td>882770.00</td>\n",
       "      <td>874042.26</td>\n",
       "      <td>C1129670968</td>\n",
       "      <td>12636.0</td>\n",
       "      <td>0.0</td>\n",
       "      <td>0</td>\n",
       "      <td>0</td>\n",
       "    </tr>\n",
       "    <tr>\n",
       "      <th>63</th>\n",
       "      <td>1</td>\n",
       "      <td>PAYMENT</td>\n",
       "      <td>2599.46</td>\n",
       "      <td>C885910946</td>\n",
       "      <td>874042.26</td>\n",
       "      <td>871442.79</td>\n",
       "      <td>M1860591867</td>\n",
       "      <td>0.0</td>\n",
       "      <td>0.0</td>\n",
       "      <td>0</td>\n",
       "      <td>0</td>\n",
       "    </tr>\n",
       "    <tr>\n",
       "      <th>241</th>\n",
       "      <td>1</td>\n",
       "      <td>PAYMENT</td>\n",
       "      <td>4635.18</td>\n",
       "      <td>C1110698130</td>\n",
       "      <td>6313782.05</td>\n",
       "      <td>6309146.87</td>\n",
       "      <td>M125644421</td>\n",
       "      <td>0.0</td>\n",
       "      <td>0.0</td>\n",
       "      <td>0</td>\n",
       "      <td>0</td>\n",
       "    </tr>\n",
       "    <tr>\n",
       "      <th>242</th>\n",
       "      <td>1</td>\n",
       "      <td>PAYMENT</td>\n",
       "      <td>1267.97</td>\n",
       "      <td>C1053632127</td>\n",
       "      <td>6309146.87</td>\n",
       "      <td>6307878.90</td>\n",
       "      <td>M1493158871</td>\n",
       "      <td>0.0</td>\n",
       "      <td>0.0</td>\n",
       "      <td>0</td>\n",
       "      <td>0</td>\n",
       "    </tr>\n",
       "    <tr>\n",
       "      <th>243</th>\n",
       "      <td>1</td>\n",
       "      <td>PAYMENT</td>\n",
       "      <td>6911.99</td>\n",
       "      <td>C89509666</td>\n",
       "      <td>6307878.90</td>\n",
       "      <td>6300966.92</td>\n",
       "      <td>M1806880779</td>\n",
       "      <td>0.0</td>\n",
       "      <td>0.0</td>\n",
       "      <td>0</td>\n",
       "      <td>0</td>\n",
       "    </tr>\n",
       "    <tr>\n",
       "      <th>...</th>\n",
       "      <td>...</td>\n",
       "      <td>...</td>\n",
       "      <td>...</td>\n",
       "      <td>...</td>\n",
       "      <td>...</td>\n",
       "      <td>...</td>\n",
       "      <td>...</td>\n",
       "      <td>...</td>\n",
       "      <td>...</td>\n",
       "      <td>...</td>\n",
       "      <td>...</td>\n",
       "    </tr>\n",
       "    <tr>\n",
       "      <th>6362576</th>\n",
       "      <td>741</td>\n",
       "      <td>TRANSFER</td>\n",
       "      <td>10000000.00</td>\n",
       "      <td>C780743034</td>\n",
       "      <td>45674547.89</td>\n",
       "      <td>35674547.89</td>\n",
       "      <td>C491519946</td>\n",
       "      <td>0.0</td>\n",
       "      <td>0.0</td>\n",
       "      <td>1</td>\n",
       "      <td>0</td>\n",
       "    </tr>\n",
       "    <tr>\n",
       "      <th>6362578</th>\n",
       "      <td>741</td>\n",
       "      <td>TRANSFER</td>\n",
       "      <td>10000000.00</td>\n",
       "      <td>C1111699947</td>\n",
       "      <td>35674547.89</td>\n",
       "      <td>25674547.89</td>\n",
       "      <td>C949015157</td>\n",
       "      <td>0.0</td>\n",
       "      <td>0.0</td>\n",
       "      <td>1</td>\n",
       "      <td>0</td>\n",
       "    </tr>\n",
       "    <tr>\n",
       "      <th>6362580</th>\n",
       "      <td>741</td>\n",
       "      <td>TRANSFER</td>\n",
       "      <td>10000000.00</td>\n",
       "      <td>C88849251</td>\n",
       "      <td>25674547.89</td>\n",
       "      <td>15674547.89</td>\n",
       "      <td>C1939028448</td>\n",
       "      <td>0.0</td>\n",
       "      <td>0.0</td>\n",
       "      <td>1</td>\n",
       "      <td>0</td>\n",
       "    </tr>\n",
       "    <tr>\n",
       "      <th>6362582</th>\n",
       "      <td>741</td>\n",
       "      <td>TRANSFER</td>\n",
       "      <td>10000000.00</td>\n",
       "      <td>C1945606464</td>\n",
       "      <td>15674547.89</td>\n",
       "      <td>5674547.89</td>\n",
       "      <td>C625944676</td>\n",
       "      <td>0.0</td>\n",
       "      <td>0.0</td>\n",
       "      <td>1</td>\n",
       "      <td>0</td>\n",
       "    </tr>\n",
       "    <tr>\n",
       "      <th>6362584</th>\n",
       "      <td>741</td>\n",
       "      <td>TRANSFER</td>\n",
       "      <td>5674547.89</td>\n",
       "      <td>C992223106</td>\n",
       "      <td>5674547.89</td>\n",
       "      <td>5674547.89</td>\n",
       "      <td>C1366804249</td>\n",
       "      <td>0.0</td>\n",
       "      <td>0.0</td>\n",
       "      <td>1</td>\n",
       "      <td>1</td>\n",
       "    </tr>\n",
       "  </tbody>\n",
       "</table>\n",
       "<p>843823 rows × 11 columns</p>\n",
       "</div>"
      ],
      "text/plain": [
       "         step      type       amount     nameOrig  oldbalanceOrg  \\\n",
       "62          1     DEBIT      8727.74   C166694583      882770.00   \n",
       "63          1   PAYMENT      2599.46   C885910946      874042.26   \n",
       "241         1   PAYMENT      4635.18  C1110698130     6313782.05   \n",
       "242         1   PAYMENT      1267.97  C1053632127     6309146.87   \n",
       "243         1   PAYMENT      6911.99    C89509666     6307878.90   \n",
       "...       ...       ...          ...          ...            ...   \n",
       "6362576   741  TRANSFER  10000000.00   C780743034    45674547.89   \n",
       "6362578   741  TRANSFER  10000000.00  C1111699947    35674547.89   \n",
       "6362580   741  TRANSFER  10000000.00    C88849251    25674547.89   \n",
       "6362582   741  TRANSFER  10000000.00  C1945606464    15674547.89   \n",
       "6362584   741  TRANSFER   5674547.89   C992223106     5674547.89   \n",
       "\n",
       "         newbalanceOrig     nameDest  oldbalanceDest  newbalanceDest  isFraud  \\\n",
       "62            874042.26  C1129670968         12636.0             0.0        0   \n",
       "63            871442.79  M1860591867             0.0             0.0        0   \n",
       "241          6309146.87   M125644421             0.0             0.0        0   \n",
       "242          6307878.90  M1493158871             0.0             0.0        0   \n",
       "243          6300966.92  M1806880779             0.0             0.0        0   \n",
       "...                 ...          ...             ...             ...      ...   \n",
       "6362576     35674547.89   C491519946             0.0             0.0        1   \n",
       "6362578     25674547.89   C949015157             0.0             0.0        1   \n",
       "6362580     15674547.89  C1939028448             0.0             0.0        1   \n",
       "6362582      5674547.89   C625944676             0.0             0.0        1   \n",
       "6362584      5674547.89  C1366804249             0.0             0.0        1   \n",
       "\n",
       "         isFlaggedFraud  \n",
       "62                    0  \n",
       "63                    0  \n",
       "241                   0  \n",
       "242                   0  \n",
       "243                   0  \n",
       "...                 ...  \n",
       "6362576               0  \n",
       "6362578               0  \n",
       "6362580               0  \n",
       "6362582               0  \n",
       "6362584               1  \n",
       "\n",
       "[843823 rows x 11 columns]"
      ]
     },
     "execution_count": 64,
     "metadata": {},
     "output_type": "execute_result"
    }
   ],
   "source": [
    "fraud = data[(data.newbalanceOrig>upper_bridge_3)]\n",
    "fraud"
   ]
  },
  {
   "cell_type": "code",
   "execution_count": 65,
   "id": "e6dce634",
   "metadata": {},
   "outputs": [
    {
     "data": {
      "text/html": [
       "<div>\n",
       "<style scoped>\n",
       "    .dataframe tbody tr th:only-of-type {\n",
       "        vertical-align: middle;\n",
       "    }\n",
       "\n",
       "    .dataframe tbody tr th {\n",
       "        vertical-align: top;\n",
       "    }\n",
       "\n",
       "    .dataframe thead th {\n",
       "        text-align: right;\n",
       "    }\n",
       "</style>\n",
       "<table border=\"1\" class=\"dataframe\">\n",
       "  <thead>\n",
       "    <tr style=\"text-align: right;\">\n",
       "      <th></th>\n",
       "      <th>step</th>\n",
       "      <th>type</th>\n",
       "      <th>amount</th>\n",
       "      <th>nameOrig</th>\n",
       "      <th>oldbalanceOrg</th>\n",
       "      <th>newbalanceOrig</th>\n",
       "      <th>nameDest</th>\n",
       "      <th>oldbalanceDest</th>\n",
       "      <th>newbalanceDest</th>\n",
       "      <th>isFraud</th>\n",
       "      <th>isFlaggedFraud</th>\n",
       "    </tr>\n",
       "  </thead>\n",
       "  <tbody>\n",
       "    <tr>\n",
       "      <th>62</th>\n",
       "      <td>1</td>\n",
       "      <td>DEBIT</td>\n",
       "      <td>8727.74</td>\n",
       "      <td>C166694583</td>\n",
       "      <td>882770.00</td>\n",
       "      <td>874042.26</td>\n",
       "      <td>C1129670968</td>\n",
       "      <td>12636.0</td>\n",
       "      <td>0.0</td>\n",
       "      <td>0</td>\n",
       "      <td>0</td>\n",
       "    </tr>\n",
       "    <tr>\n",
       "      <th>63</th>\n",
       "      <td>1</td>\n",
       "      <td>PAYMENT</td>\n",
       "      <td>2599.46</td>\n",
       "      <td>C885910946</td>\n",
       "      <td>874042.26</td>\n",
       "      <td>871442.79</td>\n",
       "      <td>M1860591867</td>\n",
       "      <td>0.0</td>\n",
       "      <td>0.0</td>\n",
       "      <td>0</td>\n",
       "      <td>0</td>\n",
       "    </tr>\n",
       "    <tr>\n",
       "      <th>241</th>\n",
       "      <td>1</td>\n",
       "      <td>PAYMENT</td>\n",
       "      <td>4635.18</td>\n",
       "      <td>C1110698130</td>\n",
       "      <td>6313782.05</td>\n",
       "      <td>6309146.87</td>\n",
       "      <td>M125644421</td>\n",
       "      <td>0.0</td>\n",
       "      <td>0.0</td>\n",
       "      <td>0</td>\n",
       "      <td>0</td>\n",
       "    </tr>\n",
       "    <tr>\n",
       "      <th>242</th>\n",
       "      <td>1</td>\n",
       "      <td>PAYMENT</td>\n",
       "      <td>1267.97</td>\n",
       "      <td>C1053632127</td>\n",
       "      <td>6309146.87</td>\n",
       "      <td>6307878.90</td>\n",
       "      <td>M1493158871</td>\n",
       "      <td>0.0</td>\n",
       "      <td>0.0</td>\n",
       "      <td>0</td>\n",
       "      <td>0</td>\n",
       "    </tr>\n",
       "    <tr>\n",
       "      <th>243</th>\n",
       "      <td>1</td>\n",
       "      <td>PAYMENT</td>\n",
       "      <td>6911.99</td>\n",
       "      <td>C89509666</td>\n",
       "      <td>6307878.90</td>\n",
       "      <td>6300966.92</td>\n",
       "      <td>M1806880779</td>\n",
       "      <td>0.0</td>\n",
       "      <td>0.0</td>\n",
       "      <td>0</td>\n",
       "      <td>0</td>\n",
       "    </tr>\n",
       "    <tr>\n",
       "      <th>...</th>\n",
       "      <td>...</td>\n",
       "      <td>...</td>\n",
       "      <td>...</td>\n",
       "      <td>...</td>\n",
       "      <td>...</td>\n",
       "      <td>...</td>\n",
       "      <td>...</td>\n",
       "      <td>...</td>\n",
       "      <td>...</td>\n",
       "      <td>...</td>\n",
       "      <td>...</td>\n",
       "    </tr>\n",
       "    <tr>\n",
       "      <th>6362576</th>\n",
       "      <td>741</td>\n",
       "      <td>TRANSFER</td>\n",
       "      <td>10000000.00</td>\n",
       "      <td>C780743034</td>\n",
       "      <td>45674547.89</td>\n",
       "      <td>35674547.89</td>\n",
       "      <td>C491519946</td>\n",
       "      <td>0.0</td>\n",
       "      <td>0.0</td>\n",
       "      <td>1</td>\n",
       "      <td>0</td>\n",
       "    </tr>\n",
       "    <tr>\n",
       "      <th>6362578</th>\n",
       "      <td>741</td>\n",
       "      <td>TRANSFER</td>\n",
       "      <td>10000000.00</td>\n",
       "      <td>C1111699947</td>\n",
       "      <td>35674547.89</td>\n",
       "      <td>25674547.89</td>\n",
       "      <td>C949015157</td>\n",
       "      <td>0.0</td>\n",
       "      <td>0.0</td>\n",
       "      <td>1</td>\n",
       "      <td>0</td>\n",
       "    </tr>\n",
       "    <tr>\n",
       "      <th>6362580</th>\n",
       "      <td>741</td>\n",
       "      <td>TRANSFER</td>\n",
       "      <td>10000000.00</td>\n",
       "      <td>C88849251</td>\n",
       "      <td>25674547.89</td>\n",
       "      <td>15674547.89</td>\n",
       "      <td>C1939028448</td>\n",
       "      <td>0.0</td>\n",
       "      <td>0.0</td>\n",
       "      <td>1</td>\n",
       "      <td>0</td>\n",
       "    </tr>\n",
       "    <tr>\n",
       "      <th>6362582</th>\n",
       "      <td>741</td>\n",
       "      <td>TRANSFER</td>\n",
       "      <td>10000000.00</td>\n",
       "      <td>C1945606464</td>\n",
       "      <td>15674547.89</td>\n",
       "      <td>5674547.89</td>\n",
       "      <td>C625944676</td>\n",
       "      <td>0.0</td>\n",
       "      <td>0.0</td>\n",
       "      <td>1</td>\n",
       "      <td>0</td>\n",
       "    </tr>\n",
       "    <tr>\n",
       "      <th>6362584</th>\n",
       "      <td>741</td>\n",
       "      <td>TRANSFER</td>\n",
       "      <td>5674547.89</td>\n",
       "      <td>C992223106</td>\n",
       "      <td>5674547.89</td>\n",
       "      <td>5674547.89</td>\n",
       "      <td>C1366804249</td>\n",
       "      <td>0.0</td>\n",
       "      <td>0.0</td>\n",
       "      <td>1</td>\n",
       "      <td>1</td>\n",
       "    </tr>\n",
       "  </tbody>\n",
       "</table>\n",
       "<p>843823 rows × 11 columns</p>\n",
       "</div>"
      ],
      "text/plain": [
       "         step      type       amount     nameOrig  oldbalanceOrg  \\\n",
       "62          1     DEBIT      8727.74   C166694583      882770.00   \n",
       "63          1   PAYMENT      2599.46   C885910946      874042.26   \n",
       "241         1   PAYMENT      4635.18  C1110698130     6313782.05   \n",
       "242         1   PAYMENT      1267.97  C1053632127     6309146.87   \n",
       "243         1   PAYMENT      6911.99    C89509666     6307878.90   \n",
       "...       ...       ...          ...          ...            ...   \n",
       "6362576   741  TRANSFER  10000000.00   C780743034    45674547.89   \n",
       "6362578   741  TRANSFER  10000000.00  C1111699947    35674547.89   \n",
       "6362580   741  TRANSFER  10000000.00    C88849251    25674547.89   \n",
       "6362582   741  TRANSFER  10000000.00  C1945606464    15674547.89   \n",
       "6362584   741  TRANSFER   5674547.89   C992223106     5674547.89   \n",
       "\n",
       "         newbalanceOrig     nameDest  oldbalanceDest  newbalanceDest  isFraud  \\\n",
       "62            874042.26  C1129670968         12636.0             0.0        0   \n",
       "63            871442.79  M1860591867             0.0             0.0        0   \n",
       "241          6309146.87   M125644421             0.0             0.0        0   \n",
       "242          6307878.90  M1493158871             0.0             0.0        0   \n",
       "243          6300966.92  M1806880779             0.0             0.0        0   \n",
       "...                 ...          ...             ...             ...      ...   \n",
       "6362576     35674547.89   C491519946             0.0             0.0        1   \n",
       "6362578     25674547.89   C949015157             0.0             0.0        1   \n",
       "6362580     15674547.89  C1939028448             0.0             0.0        1   \n",
       "6362582      5674547.89   C625944676             0.0             0.0        1   \n",
       "6362584      5674547.89  C1366804249             0.0             0.0        1   \n",
       "\n",
       "         isFlaggedFraud  \n",
       "62                    0  \n",
       "63                    0  \n",
       "241                   0  \n",
       "242                   0  \n",
       "243                   0  \n",
       "...                 ...  \n",
       "6362576               0  \n",
       "6362578               0  \n",
       "6362580               0  \n",
       "6362582               0  \n",
       "6362584               1  \n",
       "\n",
       "[843823 rows x 11 columns]"
      ]
     },
     "execution_count": 65,
     "metadata": {},
     "output_type": "execute_result"
    }
   ],
   "source": [
    "fraud"
   ]
  },
  {
   "cell_type": "markdown",
   "id": "9197141e",
   "metadata": {},
   "source": [
    "## Now ate dataset is somewhat free from the outliers. Next we will work on categorical columns"
   ]
  },
  {
   "cell_type": "code",
   "execution_count": 66,
   "id": "22e80de1",
   "metadata": {},
   "outputs": [
    {
     "name": "stdout",
     "output_type": "stream",
     "text": [
      "<class 'pandas.core.frame.DataFrame'>\n",
      "Int64Index: 843823 entries, 62 to 6362584\n",
      "Data columns (total 11 columns):\n",
      " #   Column          Non-Null Count   Dtype  \n",
      "---  ------          --------------   -----  \n",
      " 0   step            843823 non-null  int64  \n",
      " 1   type            843823 non-null  object \n",
      " 2   amount          843823 non-null  float64\n",
      " 3   nameOrig        843823 non-null  object \n",
      " 4   oldbalanceOrg   843823 non-null  float64\n",
      " 5   newbalanceOrig  843823 non-null  float64\n",
      " 6   nameDest        843823 non-null  object \n",
      " 7   oldbalanceDest  843823 non-null  float64\n",
      " 8   newbalanceDest  843823 non-null  float64\n",
      " 9   isFraud         843823 non-null  int64  \n",
      " 10  isFlaggedFraud  843823 non-null  int64  \n",
      "dtypes: float64(5), int64(3), object(3)\n",
      "memory usage: 77.3+ MB\n"
     ]
    }
   ],
   "source": [
    "fraud.info()"
   ]
  },
  {
   "cell_type": "code",
   "execution_count": 67,
   "id": "3db07b95",
   "metadata": {},
   "outputs": [
    {
     "data": {
      "text/plain": [
       "step              0\n",
       "type              0\n",
       "amount            0\n",
       "nameOrig          0\n",
       "oldbalanceOrg     0\n",
       "newbalanceOrig    0\n",
       "nameDest          0\n",
       "oldbalanceDest    0\n",
       "newbalanceDest    0\n",
       "isFraud           0\n",
       "isFlaggedFraud    0\n",
       "dtype: int64"
      ]
     },
     "execution_count": 67,
     "metadata": {},
     "output_type": "execute_result"
    }
   ],
   "source": [
    "fraud.isnull().sum()"
   ]
  },
  {
   "cell_type": "code",
   "execution_count": 68,
   "id": "1223667a",
   "metadata": {},
   "outputs": [
    {
     "data": {
      "text/plain": [
       "CASH_IN     798245\n",
       "PAYMENT      32750\n",
       "CASH_OUT     10931\n",
       "TRANSFER      1302\n",
       "DEBIT          595\n",
       "Name: type, dtype: int64"
      ]
     },
     "execution_count": 68,
     "metadata": {},
     "output_type": "execute_result"
    }
   ],
   "source": [
    "fraud['type'].value_counts()"
   ]
  },
  {
   "cell_type": "code",
   "execution_count": 69,
   "id": "3ee0380a",
   "metadata": {},
   "outputs": [
    {
     "data": {
      "text/plain": [
       "C731708421     2\n",
       "C1378263697    2\n",
       "C1708201912    2\n",
       "C556364753     2\n",
       "C1254512194    2\n",
       "              ..\n",
       "C1981657128    1\n",
       "C241959558     1\n",
       "C1499880081    1\n",
       "C1692451315    1\n",
       "C992223106     1\n",
       "Name: nameOrig, Length: 843674, dtype: int64"
      ]
     },
     "execution_count": 69,
     "metadata": {},
     "output_type": "execute_result"
    }
   ],
   "source": [
    "fraud['nameOrig'].value_counts()"
   ]
  },
  {
   "cell_type": "code",
   "execution_count": 70,
   "id": "f106587b",
   "metadata": {},
   "outputs": [
    {
     "data": {
      "text/plain": [
       "C985934102     40\n",
       "C392292416     36\n",
       "C1590550415    36\n",
       "C1782113663    34\n",
       "C1899073220    34\n",
       "               ..\n",
       "C557640230      1\n",
       "C805578664      1\n",
       "C796421264      1\n",
       "C1186108751     1\n",
       "C1366804249     1\n",
       "Name: nameDest, Length: 342997, dtype: int64"
      ]
     },
     "execution_count": 70,
     "metadata": {},
     "output_type": "execute_result"
    }
   ],
   "source": [
    "fraud['nameDest'].value_counts()"
   ]
  },
  {
   "cell_type": "markdown",
   "id": "d698b7d6",
   "metadata": {},
   "source": [
    "## Applying one hot encoding"
   ]
  },
  {
   "cell_type": "code",
   "execution_count": 71,
   "id": "a6cf0e76",
   "metadata": {},
   "outputs": [],
   "source": [
    "fraud = pd.get_dummies(data=fraud, columns = ['type'])"
   ]
  },
  {
   "cell_type": "code",
   "execution_count": 72,
   "id": "aaf051f2",
   "metadata": {},
   "outputs": [
    {
     "data": {
      "text/html": [
       "<div>\n",
       "<style scoped>\n",
       "    .dataframe tbody tr th:only-of-type {\n",
       "        vertical-align: middle;\n",
       "    }\n",
       "\n",
       "    .dataframe tbody tr th {\n",
       "        vertical-align: top;\n",
       "    }\n",
       "\n",
       "    .dataframe thead th {\n",
       "        text-align: right;\n",
       "    }\n",
       "</style>\n",
       "<table border=\"1\" class=\"dataframe\">\n",
       "  <thead>\n",
       "    <tr style=\"text-align: right;\">\n",
       "      <th></th>\n",
       "      <th>step</th>\n",
       "      <th>amount</th>\n",
       "      <th>nameOrig</th>\n",
       "      <th>oldbalanceOrg</th>\n",
       "      <th>newbalanceOrig</th>\n",
       "      <th>nameDest</th>\n",
       "      <th>oldbalanceDest</th>\n",
       "      <th>newbalanceDest</th>\n",
       "      <th>isFraud</th>\n",
       "      <th>isFlaggedFraud</th>\n",
       "      <th>type_CASH_IN</th>\n",
       "      <th>type_CASH_OUT</th>\n",
       "      <th>type_DEBIT</th>\n",
       "      <th>type_PAYMENT</th>\n",
       "      <th>type_TRANSFER</th>\n",
       "    </tr>\n",
       "  </thead>\n",
       "  <tbody>\n",
       "    <tr>\n",
       "      <th>62</th>\n",
       "      <td>1</td>\n",
       "      <td>8727.74</td>\n",
       "      <td>C166694583</td>\n",
       "      <td>882770.00</td>\n",
       "      <td>874042.26</td>\n",
       "      <td>C1129670968</td>\n",
       "      <td>12636.0</td>\n",
       "      <td>0.0</td>\n",
       "      <td>0</td>\n",
       "      <td>0</td>\n",
       "      <td>0</td>\n",
       "      <td>0</td>\n",
       "      <td>1</td>\n",
       "      <td>0</td>\n",
       "      <td>0</td>\n",
       "    </tr>\n",
       "    <tr>\n",
       "      <th>63</th>\n",
       "      <td>1</td>\n",
       "      <td>2599.46</td>\n",
       "      <td>C885910946</td>\n",
       "      <td>874042.26</td>\n",
       "      <td>871442.79</td>\n",
       "      <td>M1860591867</td>\n",
       "      <td>0.0</td>\n",
       "      <td>0.0</td>\n",
       "      <td>0</td>\n",
       "      <td>0</td>\n",
       "      <td>0</td>\n",
       "      <td>0</td>\n",
       "      <td>0</td>\n",
       "      <td>1</td>\n",
       "      <td>0</td>\n",
       "    </tr>\n",
       "    <tr>\n",
       "      <th>241</th>\n",
       "      <td>1</td>\n",
       "      <td>4635.18</td>\n",
       "      <td>C1110698130</td>\n",
       "      <td>6313782.05</td>\n",
       "      <td>6309146.87</td>\n",
       "      <td>M125644421</td>\n",
       "      <td>0.0</td>\n",
       "      <td>0.0</td>\n",
       "      <td>0</td>\n",
       "      <td>0</td>\n",
       "      <td>0</td>\n",
       "      <td>0</td>\n",
       "      <td>0</td>\n",
       "      <td>1</td>\n",
       "      <td>0</td>\n",
       "    </tr>\n",
       "    <tr>\n",
       "      <th>242</th>\n",
       "      <td>1</td>\n",
       "      <td>1267.97</td>\n",
       "      <td>C1053632127</td>\n",
       "      <td>6309146.87</td>\n",
       "      <td>6307878.90</td>\n",
       "      <td>M1493158871</td>\n",
       "      <td>0.0</td>\n",
       "      <td>0.0</td>\n",
       "      <td>0</td>\n",
       "      <td>0</td>\n",
       "      <td>0</td>\n",
       "      <td>0</td>\n",
       "      <td>0</td>\n",
       "      <td>1</td>\n",
       "      <td>0</td>\n",
       "    </tr>\n",
       "    <tr>\n",
       "      <th>243</th>\n",
       "      <td>1</td>\n",
       "      <td>6911.99</td>\n",
       "      <td>C89509666</td>\n",
       "      <td>6307878.90</td>\n",
       "      <td>6300966.92</td>\n",
       "      <td>M1806880779</td>\n",
       "      <td>0.0</td>\n",
       "      <td>0.0</td>\n",
       "      <td>0</td>\n",
       "      <td>0</td>\n",
       "      <td>0</td>\n",
       "      <td>0</td>\n",
       "      <td>0</td>\n",
       "      <td>1</td>\n",
       "      <td>0</td>\n",
       "    </tr>\n",
       "    <tr>\n",
       "      <th>...</th>\n",
       "      <td>...</td>\n",
       "      <td>...</td>\n",
       "      <td>...</td>\n",
       "      <td>...</td>\n",
       "      <td>...</td>\n",
       "      <td>...</td>\n",
       "      <td>...</td>\n",
       "      <td>...</td>\n",
       "      <td>...</td>\n",
       "      <td>...</td>\n",
       "      <td>...</td>\n",
       "      <td>...</td>\n",
       "      <td>...</td>\n",
       "      <td>...</td>\n",
       "      <td>...</td>\n",
       "    </tr>\n",
       "    <tr>\n",
       "      <th>6362576</th>\n",
       "      <td>741</td>\n",
       "      <td>10000000.00</td>\n",
       "      <td>C780743034</td>\n",
       "      <td>45674547.89</td>\n",
       "      <td>35674547.89</td>\n",
       "      <td>C491519946</td>\n",
       "      <td>0.0</td>\n",
       "      <td>0.0</td>\n",
       "      <td>1</td>\n",
       "      <td>0</td>\n",
       "      <td>0</td>\n",
       "      <td>0</td>\n",
       "      <td>0</td>\n",
       "      <td>0</td>\n",
       "      <td>1</td>\n",
       "    </tr>\n",
       "    <tr>\n",
       "      <th>6362578</th>\n",
       "      <td>741</td>\n",
       "      <td>10000000.00</td>\n",
       "      <td>C1111699947</td>\n",
       "      <td>35674547.89</td>\n",
       "      <td>25674547.89</td>\n",
       "      <td>C949015157</td>\n",
       "      <td>0.0</td>\n",
       "      <td>0.0</td>\n",
       "      <td>1</td>\n",
       "      <td>0</td>\n",
       "      <td>0</td>\n",
       "      <td>0</td>\n",
       "      <td>0</td>\n",
       "      <td>0</td>\n",
       "      <td>1</td>\n",
       "    </tr>\n",
       "    <tr>\n",
       "      <th>6362580</th>\n",
       "      <td>741</td>\n",
       "      <td>10000000.00</td>\n",
       "      <td>C88849251</td>\n",
       "      <td>25674547.89</td>\n",
       "      <td>15674547.89</td>\n",
       "      <td>C1939028448</td>\n",
       "      <td>0.0</td>\n",
       "      <td>0.0</td>\n",
       "      <td>1</td>\n",
       "      <td>0</td>\n",
       "      <td>0</td>\n",
       "      <td>0</td>\n",
       "      <td>0</td>\n",
       "      <td>0</td>\n",
       "      <td>1</td>\n",
       "    </tr>\n",
       "    <tr>\n",
       "      <th>6362582</th>\n",
       "      <td>741</td>\n",
       "      <td>10000000.00</td>\n",
       "      <td>C1945606464</td>\n",
       "      <td>15674547.89</td>\n",
       "      <td>5674547.89</td>\n",
       "      <td>C625944676</td>\n",
       "      <td>0.0</td>\n",
       "      <td>0.0</td>\n",
       "      <td>1</td>\n",
       "      <td>0</td>\n",
       "      <td>0</td>\n",
       "      <td>0</td>\n",
       "      <td>0</td>\n",
       "      <td>0</td>\n",
       "      <td>1</td>\n",
       "    </tr>\n",
       "    <tr>\n",
       "      <th>6362584</th>\n",
       "      <td>741</td>\n",
       "      <td>5674547.89</td>\n",
       "      <td>C992223106</td>\n",
       "      <td>5674547.89</td>\n",
       "      <td>5674547.89</td>\n",
       "      <td>C1366804249</td>\n",
       "      <td>0.0</td>\n",
       "      <td>0.0</td>\n",
       "      <td>1</td>\n",
       "      <td>1</td>\n",
       "      <td>0</td>\n",
       "      <td>0</td>\n",
       "      <td>0</td>\n",
       "      <td>0</td>\n",
       "      <td>1</td>\n",
       "    </tr>\n",
       "  </tbody>\n",
       "</table>\n",
       "<p>843823 rows × 15 columns</p>\n",
       "</div>"
      ],
      "text/plain": [
       "         step       amount     nameOrig  oldbalanceOrg  newbalanceOrig  \\\n",
       "62          1      8727.74   C166694583      882770.00       874042.26   \n",
       "63          1      2599.46   C885910946      874042.26       871442.79   \n",
       "241         1      4635.18  C1110698130     6313782.05      6309146.87   \n",
       "242         1      1267.97  C1053632127     6309146.87      6307878.90   \n",
       "243         1      6911.99    C89509666     6307878.90      6300966.92   \n",
       "...       ...          ...          ...            ...             ...   \n",
       "6362576   741  10000000.00   C780743034    45674547.89     35674547.89   \n",
       "6362578   741  10000000.00  C1111699947    35674547.89     25674547.89   \n",
       "6362580   741  10000000.00    C88849251    25674547.89     15674547.89   \n",
       "6362582   741  10000000.00  C1945606464    15674547.89      5674547.89   \n",
       "6362584   741   5674547.89   C992223106     5674547.89      5674547.89   \n",
       "\n",
       "            nameDest  oldbalanceDest  newbalanceDest  isFraud  isFlaggedFraud  \\\n",
       "62       C1129670968         12636.0             0.0        0               0   \n",
       "63       M1860591867             0.0             0.0        0               0   \n",
       "241       M125644421             0.0             0.0        0               0   \n",
       "242      M1493158871             0.0             0.0        0               0   \n",
       "243      M1806880779             0.0             0.0        0               0   \n",
       "...              ...             ...             ...      ...             ...   \n",
       "6362576   C491519946             0.0             0.0        1               0   \n",
       "6362578   C949015157             0.0             0.0        1               0   \n",
       "6362580  C1939028448             0.0             0.0        1               0   \n",
       "6362582   C625944676             0.0             0.0        1               0   \n",
       "6362584  C1366804249             0.0             0.0        1               1   \n",
       "\n",
       "         type_CASH_IN  type_CASH_OUT  type_DEBIT  type_PAYMENT  type_TRANSFER  \n",
       "62                  0              0           1             0              0  \n",
       "63                  0              0           0             1              0  \n",
       "241                 0              0           0             1              0  \n",
       "242                 0              0           0             1              0  \n",
       "243                 0              0           0             1              0  \n",
       "...               ...            ...         ...           ...            ...  \n",
       "6362576             0              0           0             0              1  \n",
       "6362578             0              0           0             0              1  \n",
       "6362580             0              0           0             0              1  \n",
       "6362582             0              0           0             0              1  \n",
       "6362584             0              0           0             0              1  \n",
       "\n",
       "[843823 rows x 15 columns]"
      ]
     },
     "execution_count": 72,
     "metadata": {},
     "output_type": "execute_result"
    }
   ],
   "source": [
    "fraud"
   ]
  },
  {
   "cell_type": "markdown",
   "id": "fd8c1713",
   "metadata": {},
   "source": [
    "## Applying Label Encoding"
   ]
  },
  {
   "cell_type": "code",
   "execution_count": 73,
   "id": "4ddee845",
   "metadata": {},
   "outputs": [],
   "source": [
    "from sklearn.preprocessing import LabelEncoder\n",
    "le = LabelEncoder()"
   ]
  },
  {
   "cell_type": "code",
   "execution_count": 74,
   "id": "dad2f73f",
   "metadata": {},
   "outputs": [],
   "source": [
    "label_encode_column = ['nameOrig', 'nameDest']"
   ]
  },
  {
   "cell_type": "code",
   "execution_count": 75,
   "id": "85711ba2",
   "metadata": {},
   "outputs": [],
   "source": [
    "fraud = fraud.apply(LabelEncoder().fit_transform)"
   ]
  },
  {
   "cell_type": "code",
   "execution_count": 76,
   "id": "b1ab9d02",
   "metadata": {},
   "outputs": [
    {
     "data": {
      "text/html": [
       "<div>\n",
       "<style scoped>\n",
       "    .dataframe tbody tr th:only-of-type {\n",
       "        vertical-align: middle;\n",
       "    }\n",
       "\n",
       "    .dataframe tbody tr th {\n",
       "        vertical-align: top;\n",
       "    }\n",
       "\n",
       "    .dataframe thead th {\n",
       "        text-align: right;\n",
       "    }\n",
       "</style>\n",
       "<table border=\"1\" class=\"dataframe\">\n",
       "  <thead>\n",
       "    <tr style=\"text-align: right;\">\n",
       "      <th></th>\n",
       "      <th>step</th>\n",
       "      <th>amount</th>\n",
       "      <th>nameOrig</th>\n",
       "      <th>oldbalanceOrg</th>\n",
       "      <th>newbalanceOrig</th>\n",
       "      <th>nameDest</th>\n",
       "      <th>oldbalanceDest</th>\n",
       "      <th>newbalanceDest</th>\n",
       "      <th>isFraud</th>\n",
       "      <th>isFlaggedFraud</th>\n",
       "      <th>type_CASH_IN</th>\n",
       "      <th>type_CASH_OUT</th>\n",
       "      <th>type_DEBIT</th>\n",
       "      <th>type_PAYMENT</th>\n",
       "      <th>type_TRANSFER</th>\n",
       "    </tr>\n",
       "  </thead>\n",
       "  <tbody>\n",
       "    <tr>\n",
       "      <th>62</th>\n",
       "      <td>0</td>\n",
       "      <td>40357</td>\n",
       "      <td>291397</td>\n",
       "      <td>90255</td>\n",
       "      <td>69438</td>\n",
       "      <td>20804</td>\n",
       "      <td>1567</td>\n",
       "      <td>0</td>\n",
       "      <td>0</td>\n",
       "      <td>0</td>\n",
       "      <td>0</td>\n",
       "      <td>0</td>\n",
       "      <td>1</td>\n",
       "      <td>0</td>\n",
       "      <td>0</td>\n",
       "    </tr>\n",
       "    <tr>\n",
       "      <th>63</th>\n",
       "      <td>0</td>\n",
       "      <td>12238</td>\n",
       "      <td>794260</td>\n",
       "      <td>88742</td>\n",
       "      <td>68957</td>\n",
       "      <td>324843</td>\n",
       "      <td>0</td>\n",
       "      <td>0</td>\n",
       "      <td>0</td>\n",
       "      <td>0</td>\n",
       "      <td>0</td>\n",
       "      <td>0</td>\n",
       "      <td>0</td>\n",
       "      <td>1</td>\n",
       "      <td>0</td>\n",
       "    </tr>\n",
       "    <tr>\n",
       "      <th>241</th>\n",
       "      <td>0</td>\n",
       "      <td>21981</td>\n",
       "      <td>48298</td>\n",
       "      <td>552573</td>\n",
       "      <td>544018</td>\n",
       "      <td>314648</td>\n",
       "      <td>0</td>\n",
       "      <td>0</td>\n",
       "      <td>0</td>\n",
       "      <td>0</td>\n",
       "      <td>0</td>\n",
       "      <td>0</td>\n",
       "      <td>0</td>\n",
       "      <td>1</td>\n",
       "      <td>0</td>\n",
       "    </tr>\n",
       "    <tr>\n",
       "      <th>242</th>\n",
       "      <td>0</td>\n",
       "      <td>5936</td>\n",
       "      <td>23310</td>\n",
       "      <td>552310</td>\n",
       "      <td>543945</td>\n",
       "      <td>318619</td>\n",
       "      <td>0</td>\n",
       "      <td>0</td>\n",
       "      <td>0</td>\n",
       "      <td>0</td>\n",
       "      <td>0</td>\n",
       "      <td>0</td>\n",
       "      <td>0</td>\n",
       "      <td>1</td>\n",
       "      <td>0</td>\n",
       "    </tr>\n",
       "    <tr>\n",
       "      <th>243</th>\n",
       "      <td>0</td>\n",
       "      <td>32401</td>\n",
       "      <td>798183</td>\n",
       "      <td>552240</td>\n",
       "      <td>543526</td>\n",
       "      <td>323922</td>\n",
       "      <td>0</td>\n",
       "      <td>0</td>\n",
       "      <td>0</td>\n",
       "      <td>0</td>\n",
       "      <td>0</td>\n",
       "      <td>0</td>\n",
       "      <td>0</td>\n",
       "      <td>1</td>\n",
       "      <td>0</td>\n",
       "    </tr>\n",
       "    <tr>\n",
       "      <th>...</th>\n",
       "      <td>...</td>\n",
       "      <td>...</td>\n",
       "      <td>...</td>\n",
       "      <td>...</td>\n",
       "      <td>...</td>\n",
       "      <td>...</td>\n",
       "      <td>...</td>\n",
       "      <td>...</td>\n",
       "      <td>...</td>\n",
       "      <td>...</td>\n",
       "      <td>...</td>\n",
       "      <td>...</td>\n",
       "      <td>...</td>\n",
       "      <td>...</td>\n",
       "      <td>...</td>\n",
       "    </tr>\n",
       "    <tr>\n",
       "      <th>6362576</th>\n",
       "      <td>451</td>\n",
       "      <td>833134</td>\n",
       "      <td>748734</td>\n",
       "      <td>842709</td>\n",
       "      <td>843414</td>\n",
       "      <td>228818</td>\n",
       "      <td>0</td>\n",
       "      <td>0</td>\n",
       "      <td>1</td>\n",
       "      <td>0</td>\n",
       "      <td>0</td>\n",
       "      <td>0</td>\n",
       "      <td>0</td>\n",
       "      <td>0</td>\n",
       "      <td>1</td>\n",
       "    </tr>\n",
       "    <tr>\n",
       "      <th>6362578</th>\n",
       "      <td>451</td>\n",
       "      <td>833134</td>\n",
       "      <td>48751</td>\n",
       "      <td>842681</td>\n",
       "      <td>833292</td>\n",
       "      <td>302122</td>\n",
       "      <td>0</td>\n",
       "      <td>0</td>\n",
       "      <td>1</td>\n",
       "      <td>0</td>\n",
       "      <td>0</td>\n",
       "      <td>0</td>\n",
       "      <td>0</td>\n",
       "      <td>0</td>\n",
       "      <td>1</td>\n",
       "    </tr>\n",
       "    <tr>\n",
       "      <th>6362580</th>\n",
       "      <td>451</td>\n",
       "      <td>833134</td>\n",
       "      <td>795333</td>\n",
       "      <td>833044</td>\n",
       "      <td>775721</td>\n",
       "      <td>150814</td>\n",
       "      <td>0</td>\n",
       "      <td>0</td>\n",
       "      <td>1</td>\n",
       "      <td>0</td>\n",
       "      <td>0</td>\n",
       "      <td>0</td>\n",
       "      <td>0</td>\n",
       "      <td>0</td>\n",
       "      <td>1</td>\n",
       "    </tr>\n",
       "    <tr>\n",
       "      <th>6362582</th>\n",
       "      <td>451</td>\n",
       "      <td>833134</td>\n",
       "      <td>412544</td>\n",
       "      <td>776244</td>\n",
       "      <td>507295</td>\n",
       "      <td>250103</td>\n",
       "      <td>0</td>\n",
       "      <td>0</td>\n",
       "      <td>1</td>\n",
       "      <td>0</td>\n",
       "      <td>0</td>\n",
       "      <td>0</td>\n",
       "      <td>0</td>\n",
       "      <td>0</td>\n",
       "      <td>1</td>\n",
       "    </tr>\n",
       "    <tr>\n",
       "      <th>6362584</th>\n",
       "      <td>451</td>\n",
       "      <td>833131</td>\n",
       "      <td>840367</td>\n",
       "      <td>516371</td>\n",
       "      <td>507295</td>\n",
       "      <td>59109</td>\n",
       "      <td>0</td>\n",
       "      <td>0</td>\n",
       "      <td>1</td>\n",
       "      <td>1</td>\n",
       "      <td>0</td>\n",
       "      <td>0</td>\n",
       "      <td>0</td>\n",
       "      <td>0</td>\n",
       "      <td>1</td>\n",
       "    </tr>\n",
       "  </tbody>\n",
       "</table>\n",
       "<p>843823 rows × 15 columns</p>\n",
       "</div>"
      ],
      "text/plain": [
       "         step  amount  nameOrig  oldbalanceOrg  newbalanceOrig  nameDest  \\\n",
       "62          0   40357    291397          90255           69438     20804   \n",
       "63          0   12238    794260          88742           68957    324843   \n",
       "241         0   21981     48298         552573          544018    314648   \n",
       "242         0    5936     23310         552310          543945    318619   \n",
       "243         0   32401    798183         552240          543526    323922   \n",
       "...       ...     ...       ...            ...             ...       ...   \n",
       "6362576   451  833134    748734         842709          843414    228818   \n",
       "6362578   451  833134     48751         842681          833292    302122   \n",
       "6362580   451  833134    795333         833044          775721    150814   \n",
       "6362582   451  833134    412544         776244          507295    250103   \n",
       "6362584   451  833131    840367         516371          507295     59109   \n",
       "\n",
       "         oldbalanceDest  newbalanceDest  isFraud  isFlaggedFraud  \\\n",
       "62                 1567               0        0               0   \n",
       "63                    0               0        0               0   \n",
       "241                   0               0        0               0   \n",
       "242                   0               0        0               0   \n",
       "243                   0               0        0               0   \n",
       "...                 ...             ...      ...             ...   \n",
       "6362576               0               0        1               0   \n",
       "6362578               0               0        1               0   \n",
       "6362580               0               0        1               0   \n",
       "6362582               0               0        1               0   \n",
       "6362584               0               0        1               1   \n",
       "\n",
       "         type_CASH_IN  type_CASH_OUT  type_DEBIT  type_PAYMENT  type_TRANSFER  \n",
       "62                  0              0           1             0              0  \n",
       "63                  0              0           0             1              0  \n",
       "241                 0              0           0             1              0  \n",
       "242                 0              0           0             1              0  \n",
       "243                 0              0           0             1              0  \n",
       "...               ...            ...         ...           ...            ...  \n",
       "6362576             0              0           0             0              1  \n",
       "6362578             0              0           0             0              1  \n",
       "6362580             0              0           0             0              1  \n",
       "6362582             0              0           0             0              1  \n",
       "6362584             0              0           0             0              1  \n",
       "\n",
       "[843823 rows x 15 columns]"
      ]
     },
     "execution_count": 76,
     "metadata": {},
     "output_type": "execute_result"
    }
   ],
   "source": [
    "fraud"
   ]
  },
  {
   "cell_type": "code",
   "execution_count": 77,
   "id": "0771e27f",
   "metadata": {},
   "outputs": [
    {
     "name": "stdout",
     "output_type": "stream",
     "text": [
      "<class 'pandas.core.frame.DataFrame'>\n",
      "Int64Index: 843823 entries, 62 to 6362584\n",
      "Data columns (total 15 columns):\n",
      " #   Column          Non-Null Count   Dtype\n",
      "---  ------          --------------   -----\n",
      " 0   step            843823 non-null  int64\n",
      " 1   amount          843823 non-null  int64\n",
      " 2   nameOrig        843823 non-null  int32\n",
      " 3   oldbalanceOrg   843823 non-null  int64\n",
      " 4   newbalanceOrig  843823 non-null  int64\n",
      " 5   nameDest        843823 non-null  int32\n",
      " 6   oldbalanceDest  843823 non-null  int64\n",
      " 7   newbalanceDest  843823 non-null  int64\n",
      " 8   isFraud         843823 non-null  int64\n",
      " 9   isFlaggedFraud  843823 non-null  int64\n",
      " 10  type_CASH_IN    843823 non-null  int64\n",
      " 11  type_CASH_OUT   843823 non-null  int64\n",
      " 12  type_DEBIT      843823 non-null  int64\n",
      " 13  type_PAYMENT    843823 non-null  int64\n",
      " 14  type_TRANSFER   843823 non-null  int64\n",
      "dtypes: int32(2), int64(13)\n",
      "memory usage: 96.6 MB\n"
     ]
    }
   ],
   "source": [
    "fraud.info()"
   ]
  },
  {
   "cell_type": "markdown",
   "id": "11a6e514",
   "metadata": {},
   "source": [
    "## Visualising Null Values"
   ]
  },
  {
   "cell_type": "code",
   "execution_count": 78,
   "id": "08bc3b36",
   "metadata": {},
   "outputs": [
    {
     "data": {
      "text/plain": [
       "Text(0.5, 1.0, 'Total Missing Values')"
      ]
     },
     "execution_count": 78,
     "metadata": {},
     "output_type": "execute_result"
    },
    {
     "data": {
      "image/png": "[encoded data removed]",
      "text/plain": [
       "<Figure size 576x432 with 1 Axes>"
      ]
     },
     "metadata": {
      "needs_background": "light"
     },
     "output_type": "display_data"
    }
   ],
   "source": [
    "total = fraud.isnull().sum().sort_values(ascending=False)\n",
    "total_select = total.head(20)\n",
    "total_select.plot(kind=\"bar\", figsize = (8,6), fontsize = 10)\n",
    "\n",
    "plt.xlabel(\"Columns\", fontsize = 20)\n",
    "plt.ylabel(\"Count\", fontsize = 20)\n",
    "plt.title(\"Total Missing Values\", fontsize = 20)"
   ]
  },
  {
   "cell_type": "code",
   "execution_count": 79,
   "id": "e8a7c71d",
   "metadata": {},
   "outputs": [],
   "source": [
    " ### As we can clearly see there is no null values in our datatset"
   ]
  },
  {
   "cell_type": "markdown",
   "id": "fae24200",
   "metadata": {},
   "source": [
    "## Visualisng correlations using heat map"
   ]
  },
  {
   "cell_type": "code",
   "execution_count": 80,
   "id": "9cf87817",
   "metadata": {},
   "outputs": [
    {
     "data": {
      "image/png": "[encoded data removed]",
      "text/plain": [
       "<Figure size 1296x1296 with 2 Axes>"
      ]
     },
     "metadata": {
      "needs_background": "light"
     },
     "output_type": "display_data"
    }
   ],
   "source": [
    "plt.figure(figsize=(18,18))\n",
    "sns.heatmap(fraud.corr(),annot=True,cmap='RdYlGn')\n",
    "\n",
    "plt.show()"
   ]
  },
  {
   "cell_type": "code",
   "execution_count": 81,
   "id": "b6ff752d",
   "metadata": {},
   "outputs": [],
   "source": [
    "### From the heatmap above, extreme green means highly positively correlated features \n",
    "### (relationship between two variables in which both variables move in the same direction), \n",
    "### extreme red means negatively correlated features (relationship between two variables in which an increase in one \n",
    "###variable is associated with a decrease in the other)."
   ]
  },
  {
   "cell_type": "code",
   "execution_count": 82,
   "id": "dc999aaf",
   "metadata": {},
   "outputs": [
    {
     "data": {
      "text/plain": [
       "type_CASH_IN     -0.055802\n",
       "oldbalanceDest   -0.021125\n",
       "newbalanceDest   -0.020952\n",
       "type_PAYMENT     -0.002679\n",
       "type_CASH_OUT    -0.001528\n",
       "type_DEBIT       -0.000354\n",
       "nameDest          0.000135\n",
       "nameOrig          0.000690\n",
       "newbalanceOrig    0.005975\n",
       "oldbalanceOrg     0.018842\n",
       "step              0.020024\n",
       "amount            0.023150\n",
       "isFlaggedFraud    0.305480\n",
       "type_TRANSFER     0.339190\n",
       "isFraud           1.000000\n",
       "Name: isFraud, dtype: float64"
      ]
     },
     "execution_count": 82,
     "metadata": {},
     "output_type": "execute_result"
    }
   ],
   "source": [
    "features = fraud.corr()['isFraud'].sort_values()\n",
    "features"
   ]
  },
  {
   "cell_type": "markdown",
   "id": "9ae9e438",
   "metadata": {},
   "source": [
    "## Plotting correlation coefficient for easy visualization"
   ]
  },
  {
   "cell_type": "code",
   "execution_count": 83,
   "id": "8f84faf2",
   "metadata": {},
   "outputs": [
    {
     "data": {
      "text/plain": [
       "<AxesSubplot:>"
      ]
     },
     "execution_count": 83,
     "metadata": {},
     "output_type": "execute_result"
    },
    {
     "data": {
      "image/png": "[encoded data removed]",
      "text/plain": [
       "<Figure size 720x576 with 1 Axes>"
      ]
     },
     "metadata": {
      "needs_background": "light"
     },
     "output_type": "display_data"
    }
   ],
   "source": [
    "features.plot(kind='bar',figsize=(10,8))"
   ]
  },
  {
   "cell_type": "markdown",
   "id": "b892c8f4",
   "metadata": {},
   "source": [
    "# Creating are Dependent and Independent variables"
   ]
  },
  {
   "cell_type": "code",
   "execution_count": 84,
   "id": "25332f60",
   "metadata": {},
   "outputs": [],
   "source": [
    "X = fraud[[ 'step', 'amount', 'oldbalanceOrg', 'newbalanceOrig', 'isFlaggedFraud', 'nameDest', 'nameOrig', 'type_TRANSFER']]\n",
    "Y = fraud[['isFraud']]"
   ]
  },
  {
   "cell_type": "code",
   "execution_count": 85,
   "id": "1fe5359b",
   "metadata": {},
   "outputs": [
    {
     "data": {
      "text/html": [
       "<div>\n",
       "<style scoped>\n",
       "    .dataframe tbody tr th:only-of-type {\n",
       "        vertical-align: middle;\n",
       "    }\n",
       "\n",
       "    .dataframe tbody tr th {\n",
       "        vertical-align: top;\n",
       "    }\n",
       "\n",
       "    .dataframe thead th {\n",
       "        text-align: right;\n",
       "    }\n",
       "</style>\n",
       "<table border=\"1\" class=\"dataframe\">\n",
       "  <thead>\n",
       "    <tr style=\"text-align: right;\">\n",
       "      <th></th>\n",
       "      <th>step</th>\n",
       "      <th>amount</th>\n",
       "      <th>oldbalanceOrg</th>\n",
       "      <th>newbalanceOrig</th>\n",
       "      <th>isFlaggedFraud</th>\n",
       "      <th>nameDest</th>\n",
       "      <th>nameOrig</th>\n",
       "      <th>type_TRANSFER</th>\n",
       "    </tr>\n",
       "  </thead>\n",
       "  <tbody>\n",
       "    <tr>\n",
       "      <th>62</th>\n",
       "      <td>0</td>\n",
       "      <td>40357</td>\n",
       "      <td>90255</td>\n",
       "      <td>69438</td>\n",
       "      <td>0</td>\n",
       "      <td>20804</td>\n",
       "      <td>291397</td>\n",
       "      <td>0</td>\n",
       "    </tr>\n",
       "    <tr>\n",
       "      <th>63</th>\n",
       "      <td>0</td>\n",
       "      <td>12238</td>\n",
       "      <td>88742</td>\n",
       "      <td>68957</td>\n",
       "      <td>0</td>\n",
       "      <td>324843</td>\n",
       "      <td>794260</td>\n",
       "      <td>0</td>\n",
       "    </tr>\n",
       "    <tr>\n",
       "      <th>241</th>\n",
       "      <td>0</td>\n",
       "      <td>21981</td>\n",
       "      <td>552573</td>\n",
       "      <td>544018</td>\n",
       "      <td>0</td>\n",
       "      <td>314648</td>\n",
       "      <td>48298</td>\n",
       "      <td>0</td>\n",
       "    </tr>\n",
       "    <tr>\n",
       "      <th>242</th>\n",
       "      <td>0</td>\n",
       "      <td>5936</td>\n",
       "      <td>552310</td>\n",
       "      <td>543945</td>\n",
       "      <td>0</td>\n",
       "      <td>318619</td>\n",
       "      <td>23310</td>\n",
       "      <td>0</td>\n",
       "    </tr>\n",
       "    <tr>\n",
       "      <th>243</th>\n",
       "      <td>0</td>\n",
       "      <td>32401</td>\n",
       "      <td>552240</td>\n",
       "      <td>543526</td>\n",
       "      <td>0</td>\n",
       "      <td>323922</td>\n",
       "      <td>798183</td>\n",
       "      <td>0</td>\n",
       "    </tr>\n",
       "    <tr>\n",
       "      <th>...</th>\n",
       "      <td>...</td>\n",
       "      <td>...</td>\n",
       "      <td>...</td>\n",
       "      <td>...</td>\n",
       "      <td>...</td>\n",
       "      <td>...</td>\n",
       "      <td>...</td>\n",
       "      <td>...</td>\n",
       "    </tr>\n",
       "    <tr>\n",
       "      <th>6362576</th>\n",
       "      <td>451</td>\n",
       "      <td>833134</td>\n",
       "      <td>842709</td>\n",
       "      <td>843414</td>\n",
       "      <td>0</td>\n",
       "      <td>228818</td>\n",
       "      <td>748734</td>\n",
       "      <td>1</td>\n",
       "    </tr>\n",
       "    <tr>\n",
       "      <th>6362578</th>\n",
       "      <td>451</td>\n",
       "      <td>833134</td>\n",
       "      <td>842681</td>\n",
       "      <td>833292</td>\n",
       "      <td>0</td>\n",
       "      <td>302122</td>\n",
       "      <td>48751</td>\n",
       "      <td>1</td>\n",
       "    </tr>\n",
       "    <tr>\n",
       "      <th>6362580</th>\n",
       "      <td>451</td>\n",
       "      <td>833134</td>\n",
       "      <td>833044</td>\n",
       "      <td>775721</td>\n",
       "      <td>0</td>\n",
       "      <td>150814</td>\n",
       "      <td>795333</td>\n",
       "      <td>1</td>\n",
       "    </tr>\n",
       "    <tr>\n",
       "      <th>6362582</th>\n",
       "      <td>451</td>\n",
       "      <td>833134</td>\n",
       "      <td>776244</td>\n",
       "      <td>507295</td>\n",
       "      <td>0</td>\n",
       "      <td>250103</td>\n",
       "      <td>412544</td>\n",
       "      <td>1</td>\n",
       "    </tr>\n",
       "    <tr>\n",
       "      <th>6362584</th>\n",
       "      <td>451</td>\n",
       "      <td>833131</td>\n",
       "      <td>516371</td>\n",
       "      <td>507295</td>\n",
       "      <td>1</td>\n",
       "      <td>59109</td>\n",
       "      <td>840367</td>\n",
       "      <td>1</td>\n",
       "    </tr>\n",
       "  </tbody>\n",
       "</table>\n",
       "<p>843823 rows × 8 columns</p>\n",
       "</div>"
      ],
      "text/plain": [
       "         step  amount  oldbalanceOrg  newbalanceOrig  isFlaggedFraud  \\\n",
       "62          0   40357          90255           69438               0   \n",
       "63          0   12238          88742           68957               0   \n",
       "241         0   21981         552573          544018               0   \n",
       "242         0    5936         552310          543945               0   \n",
       "243         0   32401         552240          543526               0   \n",
       "...       ...     ...            ...             ...             ...   \n",
       "6362576   451  833134         842709          843414               0   \n",
       "6362578   451  833134         842681          833292               0   \n",
       "6362580   451  833134         833044          775721               0   \n",
       "6362582   451  833134         776244          507295               0   \n",
       "6362584   451  833131         516371          507295               1   \n",
       "\n",
       "         nameDest  nameOrig  type_TRANSFER  \n",
       "62          20804    291397              0  \n",
       "63         324843    794260              0  \n",
       "241        314648     48298              0  \n",
       "242        318619     23310              0  \n",
       "243        323922    798183              0  \n",
       "...           ...       ...            ...  \n",
       "6362576    228818    748734              1  \n",
       "6362578    302122     48751              1  \n",
       "6362580    150814    795333              1  \n",
       "6362582    250103    412544              1  \n",
       "6362584     59109    840367              1  \n",
       "\n",
       "[843823 rows x 8 columns]"
      ]
     },
     "execution_count": 85,
     "metadata": {},
     "output_type": "execute_result"
    }
   ],
   "source": [
    "X"
   ]
  },
  {
   "cell_type": "code",
   "execution_count": 86,
   "id": "c9987dd1",
   "metadata": {},
   "outputs": [],
   "source": [
    "from sklearn.model_selection import train_test_split\n",
    "X_train, X_test, y_train, y_test = train_test_split(X, Y, test_size = 0.2, random_state = 1)"
   ]
  },
  {
   "cell_type": "markdown",
   "id": "2d354369",
   "metadata": {},
   "source": [
    "## Feature Scaling"
   ]
  },
  {
   "cell_type": "code",
   "execution_count": 87,
   "id": "2ca2b7eb",
   "metadata": {},
   "outputs": [],
   "source": [
    "from sklearn.preprocessing import StandardScaler\n",
    "sc = StandardScaler()\n",
    "X_train.iloc[:, :-1] = sc.fit_transform(X_train.iloc[:, :-1])\n",
    "X_test.iloc[:, :-1] = sc.transform(X_test.iloc[:, :-1])\n",
    "\n",
    "## No need to apply feature scaling on dummy variable"
   ]
  },
  {
   "cell_type": "markdown",
   "id": "7ff639ba",
   "metadata": {},
   "source": [
    "## Applying XGBoost Classifier"
   ]
  },
  {
   "cell_type": "code",
   "execution_count": 88,
   "id": "73a11539",
   "metadata": {},
   "outputs": [
    {
     "data": {
      "text/plain": [
       "XGBClassifier(base_score=0.5, booster='gbtree', callbacks=None,\n",
       "              colsample_bylevel=1, colsample_bynode=1, colsample_bytree=1,\n",
       "              early_stopping_rounds=None, enable_categorical=False,\n",
       "              eval_metric=None, gamma=0, gpu_id=-1, grow_policy='depthwise',\n",
       "              importance_type=None, interaction_constraints='',\n",
       "              learning_rate=0.300000012, max_bin=256, max_cat_to_onehot=4,\n",
       "              max_delta_step=0, max_depth=6, max_leaves=0, min_child_weight=1,\n",
       "              missing=nan, monotone_constraints='()', n_estimators=100,\n",
       "              n_jobs=0, num_parallel_tree=1, predictor='auto', random_state=0,\n",
       "              reg_alpha=0, reg_lambda=1, ...)"
      ]
     },
     "execution_count": 88,
     "metadata": {},
     "output_type": "execute_result"
    }
   ],
   "source": [
    "from xgboost import XGBClassifier\n",
    "classifier = XGBClassifier()\n",
    "classifier.fit(X_train, y_train)"
   ]
  },
  {
   "cell_type": "code",
   "execution_count": 89,
   "id": "0804f3cd",
   "metadata": {},
   "outputs": [],
   "source": [
    "y_pred = classifier.predict(X_test)"
   ]
  },
  {
   "cell_type": "markdown",
   "id": "10830574",
   "metadata": {},
   "source": [
    "## Creating confusion matrix and predicting precision and recall "
   ]
  },
  {
   "cell_type": "code",
   "execution_count": 90,
   "id": "799d76ad",
   "metadata": {},
   "outputs": [
    {
     "name": "stdout",
     "output_type": "stream",
     "text": [
      "[[168733      0]\n",
      " [     0     32]]\n",
      "1.0\n",
      "1.0\n"
     ]
    }
   ],
   "source": [
    "from sklearn.metrics import confusion_matrix, precision_score, recall_score\n",
    "cm = confusion_matrix(y_test, y_pred)\n",
    "print(cm)\n",
    "Precision = precision_score(y_test, y_pred)\n",
    "Recall = recall_score(y_test, y_pred)\n",
    "print(Precision)\n",
    "print(Recall)"
   ]
  },
  {
   "cell_type": "markdown",
   "id": "70aaadc1",
   "metadata": {},
   "source": [
    "##  Predicting accuracy and f1_score"
   ]
  },
  {
   "cell_type": "code",
   "execution_count": 91,
   "id": "1cf67095",
   "metadata": {},
   "outputs": [
    {
     "name": "stdout",
     "output_type": "stream",
     "text": [
      "1.0\n",
      "1.0\n"
     ]
    }
   ],
   "source": [
    "from sklearn.metrics import  accuracy_score, f1_score\n",
    "Accuracy = accuracy_score(y_test, y_pred)\n",
    "print(Accuracy)\n",
    "F1_score = f1_score(y_test, y_pred)\n",
    "print(F1_score)"
   ]
  },
  {
   "cell_type": "code",
   "execution_count": 92,
   "id": "37269b17",
   "metadata": {},
   "outputs": [
    {
     "data": {
      "text/plain": [
       "0.9999970372916105"
      ]
     },
     "execution_count": 92,
     "metadata": {},
     "output_type": "execute_result"
    }
   ],
   "source": [
    "classifier.score(X_train, y_train)"
   ]
  },
  {
   "cell_type": "markdown",
   "id": "04317bd4",
   "metadata": {},
   "source": [
    "## Applying k-Fold Cross Validation"
   ]
  },
  {
   "cell_type": "code",
   "execution_count": 93,
   "id": "80e0ec6e",
   "metadata": {},
   "outputs": [
    {
     "name": "stdout",
     "output_type": "stream",
     "text": [
      "Accuracy: 100.00 %\n",
      "Standard Deviation: 0.00 %\n"
     ]
    }
   ],
   "source": [
    "from sklearn.model_selection import cross_val_score\n",
    "accuracies = cross_val_score(estimator = classifier, X = X_train, y = y_train, cv = 10)\n",
    "print(\"Accuracy: {:.2f} %\".format(accuracies.mean()*100))\n",
    "print(\"Standard Deviation: {:.2f} %\".format(accuracies.std()*100))"
   ]
  },
  {
   "cell_type": "markdown",
   "id": "4b18e6fe",
   "metadata": {},
   "source": [
    "# Building the ANN"
   ]
  },
  {
   "cell_type": "markdown",
   "id": "dc7af177",
   "metadata": {},
   "source": [
    "## initializing the ANN "
   ]
  },
  {
   "cell_type": "code",
   "execution_count": 94,
   "id": "4eab4106",
   "metadata": {},
   "outputs": [],
   "source": [
    "ann = tf.keras.models.Sequential()"
   ]
  },
  {
   "cell_type": "markdown",
   "id": "c3b5e4ff",
   "metadata": {},
   "source": [
    "## Adding the input layer and the first hidden layer"
   ]
  },
  {
   "cell_type": "code",
   "execution_count": 95,
   "id": "650be718",
   "metadata": {},
   "outputs": [],
   "source": [
    "ann.add(tf.keras.layers.Dense(units=6, activation='relu'))"
   ]
  },
  {
   "cell_type": "markdown",
   "id": "ecc4126a",
   "metadata": {},
   "source": [
    "## Adding the second hidden layer"
   ]
  },
  {
   "cell_type": "code",
   "execution_count": 96,
   "id": "1c07d29a",
   "metadata": {},
   "outputs": [],
   "source": [
    "ann.add(tf.keras.layers.Dense(units=6, activation='relu'))"
   ]
  },
  {
   "cell_type": "markdown",
   "id": "29cb4c2d",
   "metadata": {},
   "source": [
    "## Adding the output layer"
   ]
  },
  {
   "cell_type": "code",
   "execution_count": 97,
   "id": "c118995f",
   "metadata": {},
   "outputs": [],
   "source": [
    "ann.add(tf.keras.layers.Dense(units=1, activation='sigmoid'))"
   ]
  },
  {
   "cell_type": "markdown",
   "id": "2551eadc",
   "metadata": {},
   "source": [
    "## Compiling the ANN"
   ]
  },
  {
   "cell_type": "code",
   "execution_count": 98,
   "id": "2b1db725",
   "metadata": {},
   "outputs": [],
   "source": [
    "ann.compile(optimizer = 'adam', loss = 'binary_crossentropy', metrics = ['accuracy'])"
   ]
  },
  {
   "cell_type": "markdown",
   "id": "66a72568",
   "metadata": {},
   "source": [
    "## Training the ANN on the Training set"
   ]
  },
  {
   "cell_type": "code",
   "execution_count": 99,
   "id": "f16334cf",
   "metadata": {},
   "outputs": [
    {
     "name": "stdout",
     "output_type": "stream",
     "text": [
      "Epoch 1/10\n",
      "21096/21096 [==============================] - 22s 1ms/step - loss: 0.0064 - accuracy: 0.9997\n",
      "Epoch 2/10\n",
      "21096/21096 [==============================] - 21s 1ms/step - loss: 1.2867e-04 - accuracy: 1.0000\n",
      "Epoch 3/10\n",
      "21096/21096 [==============================] - 22s 1ms/step - loss: 3.9770e-05 - accuracy: 1.0000\n",
      "Epoch 4/10\n",
      "21096/21096 [==============================] - 21s 1ms/step - loss: 3.5059e-05 - accuracy: 1.0000\n",
      "Epoch 5/10\n",
      "21096/21096 [==============================] - 21s 1ms/step - loss: 3.2909e-05 - accuracy: 1.0000\n",
      "Epoch 6/10\n",
      "21096/21096 [==============================] - 21s 1ms/step - loss: 2.4899e-05 - accuracy: 1.0000\n",
      "Epoch 7/10\n",
      "21096/21096 [==============================] - 21s 1ms/step - loss: 3.5622e-05 - accuracy: 1.0000\n",
      "Epoch 8/10\n",
      "21096/21096 [==============================] - 21s 996us/step - loss: 3.0930e-05 - accuracy: 1.0000\n",
      "Epoch 9/10\n",
      "21096/21096 [==============================] - 20s 971us/step - loss: 3.1859e-05 - accuracy: 1.0000\n",
      "Epoch 10/10\n",
      "21096/21096 [==============================] - 21s 998us/step - loss: 3.4545e-05 - accuracy: 1.0000\n"
     ]
    },
    {
     "data": {
      "text/plain": [
       "<keras.callbacks.History at 0x1dd315354c0>"
      ]
     },
     "execution_count": 99,
     "metadata": {},
     "output_type": "execute_result"
    }
   ],
   "source": [
    "ann.fit(X_train, y_train, batch_size = 32, epochs = 10)"
   ]
  },
  {
   "cell_type": "markdown",
   "id": "2dd2abba",
   "metadata": {},
   "source": [
    "## Predicting the Test set results"
   ]
  },
  {
   "cell_type": "code",
   "execution_count": 100,
   "id": "32b6ac7c",
   "metadata": {},
   "outputs": [
    {
     "name": "stdout",
     "output_type": "stream",
     "text": [
      "5274/5274 [==============================] - 4s 733us/step\n"
     ]
    }
   ],
   "source": [
    "y_pred = ann.predict(X_test)\n",
    "y_pred = (y_pred>0.5)"
   ]
  },
  {
   "cell_type": "markdown",
   "id": "055db39e",
   "metadata": {},
   "source": [
    "## Creating confusion matrix and calculating accuracy"
   ]
  },
  {
   "cell_type": "code",
   "execution_count": 101,
   "id": "fe4f438a",
   "metadata": {},
   "outputs": [
    {
     "name": "stdout",
     "output_type": "stream",
     "text": [
      "[[168733      0]\n",
      " [     0     32]]\n"
     ]
    },
    {
     "data": {
      "text/plain": [
       "1.0"
      ]
     },
     "execution_count": 101,
     "metadata": {},
     "output_type": "execute_result"
    }
   ],
   "source": [
    "from sklearn.metrics import confusion_matrix, accuracy_score\n",
    "cm = confusion_matrix(y_test, y_pred)\n",
    "print(cm)\n",
    "accuracy_score(y_test, y_pred)"
   ]
  }
 ],
 "metadata": {
  "kernelspec": {
   "display_name": "Python 3 (ipykernel)",
   "language": "python",
   "name": "python3"
  },
  "language_info": {
   "codemirror_mode": {
    "name": "ipython",
    "version": 3
   },
   "file_extension": ".py",
   "mimetype": "text/x-python",
   "name": "python",
   "nbconvert_exporter": "python",
   "pygments_lexer": "ipython3",
   "version": "3.9.5"
  }
 },
 "nbformat": 4,
 "nbformat_minor": 5
}
